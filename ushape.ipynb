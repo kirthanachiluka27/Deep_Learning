{
 "cells": [
  {
   "cell_type": "markdown",
   "id": "d3876145",
   "metadata": {},
   "source": [
    "# Desicion surface based on MLP\n"
   ]
  },
  {
   "cell_type": "markdown",
   "id": "b2c9acc4",
   "metadata": {},
   "source": [
    "# Importing required libraries\n"
   ]
  },
  {
   "cell_type": "code",
   "execution_count": 1,
   "id": "28c12a6d",
   "metadata": {},
   "outputs": [],
   "source": [
    "import pandas as pd\n",
    "import numpy as np\n",
    "from sklearn.model_selection import train_test_split\n",
    "import sklearn\n",
    "from sklearn.preprocessing import StandardScaler\n",
    "\n",
    "from sklearn.metrics import accuracy_score\n",
    "import seaborn as sns\n",
    "import matplotlib.pyplot as plt\n",
    "import tensorflow\n",
    "from tensorflow import keras\n",
    "from tensorflow.keras import Sequential \n",
    "from tensorflow.keras.layers import Dense, Dropout\n",
    "from mlxtend.plotting import plot_decision_regions;"
   ]
  },
  {
   "cell_type": "code",
   "execution_count": 2,
   "id": "bb4dc09f",
   "metadata": {},
   "outputs": [],
   "source": [
    "data=pd.read_csv(r\"C:\\Users\\DELL\\Desktop\\downloads\\1.ushape.csv\",header=None)"
   ]
  },
  {
   "cell_type": "code",
   "execution_count": 4,
   "id": "b60bf5e0",
   "metadata": {},
   "outputs": [
    {
     "data": {
      "text/html": [
       "<div>\n",
       "<style scoped>\n",
       "    .dataframe tbody tr th:only-of-type {\n",
       "        vertical-align: middle;\n",
       "    }\n",
       "\n",
       "    .dataframe tbody tr th {\n",
       "        vertical-align: top;\n",
       "    }\n",
       "\n",
       "    .dataframe thead th {\n",
       "        text-align: right;\n",
       "    }\n",
       "</style>\n",
       "<table border=\"1\" class=\"dataframe\">\n",
       "  <thead>\n",
       "    <tr style=\"text-align: right;\">\n",
       "      <th></th>\n",
       "      <th>0</th>\n",
       "      <th>1</th>\n",
       "      <th>2</th>\n",
       "    </tr>\n",
       "  </thead>\n",
       "  <tbody>\n",
       "    <tr>\n",
       "      <th>0</th>\n",
       "      <td>0.031595</td>\n",
       "      <td>0.986988</td>\n",
       "      <td>0.0</td>\n",
       "    </tr>\n",
       "    <tr>\n",
       "      <th>1</th>\n",
       "      <td>2.115098</td>\n",
       "      <td>-0.046244</td>\n",
       "      <td>1.0</td>\n",
       "    </tr>\n",
       "    <tr>\n",
       "      <th>2</th>\n",
       "      <td>0.882490</td>\n",
       "      <td>-0.075756</td>\n",
       "      <td>0.0</td>\n",
       "    </tr>\n",
       "    <tr>\n",
       "      <th>3</th>\n",
       "      <td>-0.055144</td>\n",
       "      <td>-0.037332</td>\n",
       "      <td>1.0</td>\n",
       "    </tr>\n",
       "    <tr>\n",
       "      <th>4</th>\n",
       "      <td>0.829545</td>\n",
       "      <td>-0.539321</td>\n",
       "      <td>1.0</td>\n",
       "    </tr>\n",
       "    <tr>\n",
       "      <th>...</th>\n",
       "      <td>...</td>\n",
       "      <td>...</td>\n",
       "      <td>...</td>\n",
       "    </tr>\n",
       "    <tr>\n",
       "      <th>95</th>\n",
       "      <td>1.699453</td>\n",
       "      <td>0.587720</td>\n",
       "      <td>1.0</td>\n",
       "    </tr>\n",
       "    <tr>\n",
       "      <th>96</th>\n",
       "      <td>0.218623</td>\n",
       "      <td>-0.652521</td>\n",
       "      <td>1.0</td>\n",
       "    </tr>\n",
       "    <tr>\n",
       "      <th>97</th>\n",
       "      <td>0.952914</td>\n",
       "      <td>-0.419766</td>\n",
       "      <td>1.0</td>\n",
       "    </tr>\n",
       "    <tr>\n",
       "      <th>98</th>\n",
       "      <td>-1.318500</td>\n",
       "      <td>0.423112</td>\n",
       "      <td>0.0</td>\n",
       "    </tr>\n",
       "    <tr>\n",
       "      <th>99</th>\n",
       "      <td>-1.296818</td>\n",
       "      <td>0.184147</td>\n",
       "      <td>0.0</td>\n",
       "    </tr>\n",
       "  </tbody>\n",
       "</table>\n",
       "<p>100 rows × 3 columns</p>\n",
       "</div>"
      ],
      "text/plain": [
       "           0         1    2\n",
       "0   0.031595  0.986988  0.0\n",
       "1   2.115098 -0.046244  1.0\n",
       "2   0.882490 -0.075756  0.0\n",
       "3  -0.055144 -0.037332  1.0\n",
       "4   0.829545 -0.539321  1.0\n",
       "..       ...       ...  ...\n",
       "95  1.699453  0.587720  1.0\n",
       "96  0.218623 -0.652521  1.0\n",
       "97  0.952914 -0.419766  1.0\n",
       "98 -1.318500  0.423112  0.0\n",
       "99 -1.296818  0.184147  0.0\n",
       "\n",
       "[100 rows x 3 columns]"
      ]
     },
     "execution_count": 4,
     "metadata": {},
     "output_type": "execute_result"
    }
   ],
   "source": [
    "data"
   ]
  },
  {
   "cell_type": "code",
   "execution_count": 5,
   "id": "c34813b0",
   "metadata": {},
   "outputs": [
    {
     "data": {
      "text/plain": [
       "0.0    50\n",
       "1.0    50\n",
       "Name: 2, dtype: int64"
      ]
     },
     "execution_count": 5,
     "metadata": {},
     "output_type": "execute_result"
    }
   ],
   "source": [
    "data[2].value_counts()"
   ]
  },
  {
   "cell_type": "markdown",
   "id": "31310f9d",
   "metadata": {},
   "source": [
    "# Scatterplot of original dataset"
   ]
  },
  {
   "cell_type": "code",
   "execution_count": 6,
   "id": "ecbddf09",
   "metadata": {},
   "outputs": [
    {
     "name": "stderr",
     "output_type": "stream",
     "text": [
      "C:\\Users\\DELL\\anaconda3\\lib\\site-packages\\seaborn\\_decorators.py:36: FutureWarning: Pass the following variables as keyword args: x, y. From version 0.12, the only valid positional argument will be `data`, and passing other arguments without an explicit keyword will result in an error or misinterpretation.\n",
      "  warnings.warn(\n"
     ]
    },
    {
     "data": {
      "text/plain": [
       "<AxesSubplot:xlabel='0', ylabel='1'>"
      ]
     },
     "execution_count": 6,
     "metadata": {},
     "output_type": "execute_result"
    },
    {
     "data": {
      "image/png": "[encoded data removed]",
      "text/plain": [
       "<Figure size 432x288 with 1 Axes>"
      ]
     },
     "metadata": {
      "needs_background": "light"
     },
     "output_type": "display_data"
    }
   ],
   "source": [
    "sns.scatterplot(data[0],data[1],hue=data[2])"
   ]
  },
  {
   "cell_type": "markdown",
   "id": "91d2ce06",
   "metadata": {},
   "source": [
    "# Splitting of dataset"
   ]
  },
  {
   "cell_type": "code",
   "execution_count": 7,
   "id": "160a7a75",
   "metadata": {},
   "outputs": [],
   "source": [
    "x_train,x_test,y_train,y_test=train_test_split(data[[0,1]],data[2],test_size=0.1)"
   ]
  },
  {
   "cell_type": "code",
   "execution_count": 120,
   "id": "962000cf",
   "metadata": {},
   "outputs": [],
   "source": [
    "std = StandardScaler()\n"
   ]
  },
  {
   "cell_type": "code",
   "execution_count": 121,
   "id": "d9c044b4",
   "metadata": {},
   "outputs": [],
   "source": [
    "stdd=std.fit_transform(x_train)"
   ]
  },
  {
   "cell_type": "markdown",
   "id": "39d02074",
   "metadata": {},
   "source": [
    "# Creating hidden layers "
   ]
  },
  {
   "cell_type": "code",
   "execution_count": 8,
   "id": "50363506",
   "metadata": {},
   "outputs": [],
   "source": [
    "model=Sequential()\n",
    "model.add(Dense(10,activation=\"relu\",input_dim=2,kernel_initializer=\"he_uniform\"))\n",
    "model.add(Dropout(0.4))\n",
    "model.add(Dense(6,activation=\"relu\",kernel_initializer=\"he_uniform\"))\n",
    "model.add(Dropout(0.4))\n",
    "\n",
    "model.add(Dense(1,activation=\"sigmoid\"))\n"
   ]
  },
  {
   "cell_type": "code",
   "execution_count": 9,
   "id": "a4875252",
   "metadata": {},
   "outputs": [
    {
     "name": "stdout",
     "output_type": "stream",
     "text": [
      "Model: \"sequential\"\n",
      "_________________________________________________________________\n",
      " Layer (type)                Output Shape              Param #   \n",
      "=================================================================\n",
      " dense (Dense)               (None, 10)                30        \n",
      "                                                                 \n",
      " dropout (Dropout)           (None, 10)                0         \n",
      "                                                                 \n",
      " dense_1 (Dense)             (None, 6)                 66        \n",
      "                                                                 \n",
      " dropout_1 (Dropout)         (None, 6)                 0         \n",
      "                                                                 \n",
      " dense_2 (Dense)             (None, 1)                 7         \n",
      "                                                                 \n",
      "=================================================================\n",
      "Total params: 103\n",
      "Trainable params: 103\n",
      "Non-trainable params: 0\n",
      "_________________________________________________________________\n"
     ]
    }
   ],
   "source": [
    "model.summary()"
   ]
  },
  {
   "cell_type": "code",
   "execution_count": 10,
   "id": "dfc35968",
   "metadata": {},
   "outputs": [],
   "source": [
    "model.compile(optimizer=\"Adam\",loss=\"binary_crossentropy\",metrics=[\"accuracy\"])"
   ]
  },
  {
   "cell_type": "code",
   "execution_count": 11,
   "id": "4500641c",
   "metadata": {},
   "outputs": [
    {
     "name": "stdout",
     "output_type": "stream",
     "text": [
      "Epoch 1/50\n",
      "8/8 [==============================] - 20s 87ms/step - loss: 0.9197 - accuracy: 0.4306 - val_loss: 0.6844 - val_accuracy: 0.5000\n",
      "Epoch 2/50\n",
      "8/8 [==============================] - 0s 11ms/step - loss: 0.8739 - accuracy: 0.3889 - val_loss: 0.6726 - val_accuracy: 0.5000\n",
      "Epoch 3/50\n",
      "8/8 [==============================] - 0s 10ms/step - loss: 0.8627 - accuracy: 0.5000 - val_loss: 0.6599 - val_accuracy: 0.5000\n",
      "Epoch 4/50\n",
      "8/8 [==============================] - 0s 12ms/step - loss: 0.8973 - accuracy: 0.5278 - val_loss: 0.6489 - val_accuracy: 0.5000\n",
      "Epoch 5/50\n",
      "8/8 [==============================] - 0s 11ms/step - loss: 0.7730 - accuracy: 0.5417 - val_loss: 0.6384 - val_accuracy: 0.5000\n",
      "Epoch 6/50\n",
      "8/8 [==============================] - 0s 12ms/step - loss: 0.7949 - accuracy: 0.4861 - val_loss: 0.6294 - val_accuracy: 0.5000\n",
      "Epoch 7/50\n",
      "8/8 [==============================] - 0s 13ms/step - loss: 0.8532 - accuracy: 0.4583 - val_loss: 0.6200 - val_accuracy: 0.5556\n",
      "Epoch 8/50\n",
      "8/8 [==============================] - 0s 12ms/step - loss: 0.8153 - accuracy: 0.4306 - val_loss: 0.6133 - val_accuracy: 0.5556\n",
      "Epoch 9/50\n",
      "8/8 [==============================] - 0s 12ms/step - loss: 0.7357 - accuracy: 0.6111 - val_loss: 0.6056 - val_accuracy: 0.5556\n",
      "Epoch 10/50\n",
      "8/8 [==============================] - 0s 12ms/step - loss: 0.6554 - accuracy: 0.5694 - val_loss: 0.5985 - val_accuracy: 0.5556\n",
      "Epoch 11/50\n",
      "8/8 [==============================] - 0s 12ms/step - loss: 0.7473 - accuracy: 0.5556 - val_loss: 0.5933 - val_accuracy: 0.5556\n",
      "Epoch 12/50\n",
      "8/8 [==============================] - 0s 12ms/step - loss: 0.7757 - accuracy: 0.4583 - val_loss: 0.5889 - val_accuracy: 0.5556\n",
      "Epoch 13/50\n",
      "8/8 [==============================] - 0s 14ms/step - loss: 0.6834 - accuracy: 0.5417 - val_loss: 0.5830 - val_accuracy: 0.6111\n",
      "Epoch 14/50\n",
      "8/8 [==============================] - 0s 13ms/step - loss: 0.7292 - accuracy: 0.5833 - val_loss: 0.5778 - val_accuracy: 0.6111\n",
      "Epoch 15/50\n",
      "8/8 [==============================] - 0s 14ms/step - loss: 0.6434 - accuracy: 0.6667 - val_loss: 0.5732 - val_accuracy: 0.6111\n",
      "Epoch 16/50\n",
      "8/8 [==============================] - 0s 10ms/step - loss: 0.7051 - accuracy: 0.6111 - val_loss: 0.5691 - val_accuracy: 0.6667\n",
      "Epoch 17/50\n",
      "8/8 [==============================] - 0s 11ms/step - loss: 0.7208 - accuracy: 0.4583 - val_loss: 0.5647 - val_accuracy: 0.6667\n",
      "Epoch 18/50\n",
      "8/8 [==============================] - 0s 11ms/step - loss: 0.5980 - accuracy: 0.6944 - val_loss: 0.5606 - val_accuracy: 0.6667\n",
      "Epoch 19/50\n",
      "8/8 [==============================] - 0s 11ms/step - loss: 0.6199 - accuracy: 0.6250 - val_loss: 0.5563 - val_accuracy: 0.6667\n",
      "Epoch 20/50\n",
      "8/8 [==============================] - 0s 12ms/step - loss: 0.6534 - accuracy: 0.5833 - val_loss: 0.5522 - val_accuracy: 0.7222\n",
      "Epoch 21/50\n",
      "8/8 [==============================] - 0s 11ms/step - loss: 0.6584 - accuracy: 0.5694 - val_loss: 0.5482 - val_accuracy: 0.7222\n",
      "Epoch 22/50\n",
      "8/8 [==============================] - 0s 11ms/step - loss: 0.6231 - accuracy: 0.6944 - val_loss: 0.5450 - val_accuracy: 0.7778\n",
      "Epoch 23/50\n",
      "8/8 [==============================] - 0s 12ms/step - loss: 0.6312 - accuracy: 0.6250 - val_loss: 0.5417 - val_accuracy: 0.7778\n",
      "Epoch 24/50\n",
      "8/8 [==============================] - 0s 12ms/step - loss: 0.7003 - accuracy: 0.6389 - val_loss: 0.5387 - val_accuracy: 0.7778\n",
      "Epoch 25/50\n",
      "8/8 [==============================] - 0s 10ms/step - loss: 0.5855 - accuracy: 0.7639 - val_loss: 0.5361 - val_accuracy: 0.8333\n",
      "Epoch 26/50\n",
      "8/8 [==============================] - 0s 12ms/step - loss: 0.5946 - accuracy: 0.6528 - val_loss: 0.5330 - val_accuracy: 0.8333\n",
      "Epoch 27/50\n",
      "8/8 [==============================] - 0s 11ms/step - loss: 0.6641 - accuracy: 0.5833 - val_loss: 0.5301 - val_accuracy: 0.8333\n",
      "Epoch 28/50\n",
      "8/8 [==============================] - 0s 12ms/step - loss: 0.5765 - accuracy: 0.7361 - val_loss: 0.5277 - val_accuracy: 0.7778\n",
      "Epoch 29/50\n",
      "8/8 [==============================] - 0s 12ms/step - loss: 0.5589 - accuracy: 0.7083 - val_loss: 0.5254 - val_accuracy: 0.7778\n",
      "Epoch 30/50\n",
      "8/8 [==============================] - 0s 11ms/step - loss: 0.5957 - accuracy: 0.6944 - val_loss: 0.5234 - val_accuracy: 0.7778\n",
      "Epoch 31/50\n",
      "8/8 [==============================] - 0s 12ms/step - loss: 0.5579 - accuracy: 0.7222 - val_loss: 0.5216 - val_accuracy: 0.7778\n",
      "Epoch 32/50\n",
      "8/8 [==============================] - 0s 11ms/step - loss: 0.5675 - accuracy: 0.7222 - val_loss: 0.5196 - val_accuracy: 0.7778\n",
      "Epoch 33/50\n",
      "8/8 [==============================] - 0s 12ms/step - loss: 0.6285 - accuracy: 0.6528 - val_loss: 0.5174 - val_accuracy: 0.7778\n",
      "Epoch 34/50\n",
      "8/8 [==============================] - 0s 11ms/step - loss: 0.6030 - accuracy: 0.6528 - val_loss: 0.5165 - val_accuracy: 0.7778\n",
      "Epoch 35/50\n",
      "8/8 [==============================] - 0s 13ms/step - loss: 0.6029 - accuracy: 0.6389 - val_loss: 0.5156 - val_accuracy: 0.7778\n",
      "Epoch 36/50\n",
      "8/8 [==============================] - 0s 18ms/step - loss: 0.5607 - accuracy: 0.7361 - val_loss: 0.5148 - val_accuracy: 0.7778\n",
      "Epoch 37/50\n",
      "8/8 [==============================] - 0s 12ms/step - loss: 0.5728 - accuracy: 0.6806 - val_loss: 0.5134 - val_accuracy: 0.7778\n",
      "Epoch 38/50\n",
      "8/8 [==============================] - 0s 12ms/step - loss: 0.6017 - accuracy: 0.6528 - val_loss: 0.5126 - val_accuracy: 0.7778\n",
      "Epoch 39/50\n",
      "8/8 [==============================] - 0s 14ms/step - loss: 0.5692 - accuracy: 0.7361 - val_loss: 0.5119 - val_accuracy: 0.7778\n",
      "Epoch 40/50\n",
      "8/8 [==============================] - 0s 13ms/step - loss: 0.5495 - accuracy: 0.7500 - val_loss: 0.5110 - val_accuracy: 0.7778\n",
      "Epoch 41/50\n",
      "8/8 [==============================] - 0s 11ms/step - loss: 0.5654 - accuracy: 0.7500 - val_loss: 0.5101 - val_accuracy: 0.7778\n",
      "Epoch 42/50\n",
      "8/8 [==============================] - 0s 14ms/step - loss: 0.5663 - accuracy: 0.6806 - val_loss: 0.5088 - val_accuracy: 0.7778\n",
      "Epoch 43/50\n",
      "8/8 [==============================] - 0s 13ms/step - loss: 0.5371 - accuracy: 0.7500 - val_loss: 0.5078 - val_accuracy: 0.7778\n",
      "Epoch 44/50\n",
      "8/8 [==============================] - 0s 12ms/step - loss: 0.5422 - accuracy: 0.7639 - val_loss: 0.5066 - val_accuracy: 0.7778\n",
      "Epoch 45/50\n",
      "8/8 [==============================] - 0s 13ms/step - loss: 0.5536 - accuracy: 0.6944 - val_loss: 0.5058 - val_accuracy: 0.7778\n",
      "Epoch 46/50\n",
      "8/8 [==============================] - 0s 12ms/step - loss: 0.5620 - accuracy: 0.6944 - val_loss: 0.5049 - val_accuracy: 0.7778\n",
      "Epoch 47/50\n",
      "8/8 [==============================] - 0s 59ms/step - loss: 0.5314 - accuracy: 0.7361 - val_loss: 0.5047 - val_accuracy: 0.7778\n",
      "Epoch 48/50\n",
      "8/8 [==============================] - 0s 11ms/step - loss: 0.4920 - accuracy: 0.7778 - val_loss: 0.5047 - val_accuracy: 0.7778\n",
      "Epoch 49/50\n",
      "8/8 [==============================] - 0s 11ms/step - loss: 0.5402 - accuracy: 0.7361 - val_loss: 0.5049 - val_accuracy: 0.7778\n",
      "Epoch 50/50\n",
      "8/8 [==============================] - 0s 13ms/step - loss: 0.5382 - accuracy: 0.7500 - val_loss: 0.5046 - val_accuracy: 0.7778\n"
     ]
    }
   ],
   "source": [
    "tr=model.fit(x_train,y_train,batch_size=10,epochs=50,verbose=1,validation_split=0.2)"
   ]
  },
  {
   "cell_type": "code",
   "execution_count": 12,
   "id": "28243671",
   "metadata": {},
   "outputs": [],
   "source": [
    "tl1=tr.history[\"loss\"]\n",
    "cvl1=tr.history[\"val_loss\"]"
   ]
  },
  {
   "cell_type": "code",
   "execution_count": 13,
   "id": "5e95c410",
   "metadata": {},
   "outputs": [
    {
     "data": {
      "text/plain": [
       "[<matplotlib.lines.Line2D at 0x1b508abda30>]"
      ]
     },
     "execution_count": 13,
     "metadata": {},
     "output_type": "execute_result"
    },
    {
     "data": {
      "image/png": "[encoded data removed]",
      "text/plain": [
       "<Figure size 432x288 with 1 Axes>"
      ]
     },
     "metadata": {
      "needs_background": "light"
     },
     "output_type": "display_data"
    }
   ],
   "source": [
    "plt.plot(range(1,51),tl1,label=\"training_loss\")\n",
    "plt.plot(range(1,51),cvl1,label=\"crossval_loss\")"
   ]
  },
  {
   "cell_type": "code",
   "execution_count": 14,
   "id": "f84c0c45",
   "metadata": {},
   "outputs": [
    {
     "name": "stdout",
     "output_type": "stream",
     "text": [
      "3/3 [==============================] - 0s 3ms/step\n"
     ]
    }
   ],
   "source": [
    "pred1=model.predict(x_train)"
   ]
  },
  {
   "cell_type": "code",
   "execution_count": 15,
   "id": "a4270113",
   "metadata": {},
   "outputs": [],
   "source": [
    "predi1=np.where(pred1>0.5,1,0).flatten()"
   ]
  },
  {
   "cell_type": "code",
   "execution_count": 16,
   "id": "f8a7e0e0",
   "metadata": {},
   "outputs": [
    {
     "data": {
      "text/plain": [
       "0.8111111111111111"
      ]
     },
     "execution_count": 16,
     "metadata": {},
     "output_type": "execute_result"
    }
   ],
   "source": [
    "accuracy_score(y_train,predi1)"
   ]
  },
  {
   "cell_type": "code",
   "execution_count": 17,
   "id": "39986023",
   "metadata": {},
   "outputs": [
    {
     "name": "stdout",
     "output_type": "stream",
     "text": [
      "3888/3888 [==============================] - 9s 2ms/step\n"
     ]
    },
    {
     "data": {
      "text/plain": [
       "<AxesSubplot:>"
      ]
     },
     "execution_count": 17,
     "metadata": {},
     "output_type": "execute_result"
    },
    {
     "data": {
      "image/png": "[encoded data removed]",
      "text/plain": [
       "<Figure size 432x288 with 1 Axes>"
      ]
     },
     "metadata": {
      "needs_background": "light"
     },
     "output_type": "display_data"
    }
   ],
   "source": [
    "plot_decision_regions(x_train[[0,1]].values,y_train.values.astype(int),clf=model)"
   ]
  },
  {
   "cell_type": "code",
   "execution_count": null,
   "id": "c10c802a",
   "metadata": {},
   "outputs": [],
   "source": []
  }
 ],
 "metadata": {
  "kernelspec": {
   "display_name": "Python 3 (ipykernel)",
   "language": "python",
   "name": "python3"
  },
  "language_info": {
   "codemirror_mode": {
    "name": "ipython",
    "version": 3
   },
   "file_extension": ".py",
   "mimetype": "text/x-python",
   "name": "python",
   "nbconvert_exporter": "python",
   "pygments_lexer": "ipython3",
   "version": "3.9.12"
  }
 },
 "nbformat": 4,
 "nbformat_minor": 5
}
