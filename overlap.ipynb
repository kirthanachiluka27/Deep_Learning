{
 "cells": [
  {
   "cell_type": "markdown",
   "id": "40311705",
   "metadata": {},
   "source": [
    "# Decision surface based on MLP"
   ]
  },
  {
   "cell_type": "markdown",
   "id": "7476f0bd",
   "metadata": {},
   "source": [
    "# Importing required libraries"
   ]
  },
  {
   "cell_type": "code",
   "execution_count": 1,
   "id": "e4ce21c8",
   "metadata": {},
   "outputs": [],
   "source": [
    "import pandas as pd\n",
    "import numpy as np\n",
    "import seaborn as sns\n",
    "from sklearn.model_selection import train_test_split\n",
    "import sklearn\n",
    "from sklearn.preprocessing import StandardScaler\n",
    "from sklearn.metrics import accuracy_score\n",
    "import seaborn as sns\n",
    "import matplotlib.pyplot as plt\n",
    "import tensorflow\n",
    "from tensorflow import keras\n",
    "from tensorflow.keras import Sequential \n",
    "from tensorflow.keras.layers import Dense, Dropout"
   ]
  },
  {
   "cell_type": "code",
   "execution_count": 66,
   "id": "3c2cbd8e",
   "metadata": {},
   "outputs": [],
   "source": [
    "data=pd.read_csv(r\"C:\\Users\\DELL\\Desktop\\downloads\\6.overlap.csv\",header=None)"
   ]
  },
  {
   "cell_type": "code",
   "execution_count": 3,
   "id": "9c1746c2",
   "metadata": {},
   "outputs": [
    {
     "data": {
      "text/html": [
       "<div>\n",
       "<style scoped>\n",
       "    .dataframe tbody tr th:only-of-type {\n",
       "        vertical-align: middle;\n",
       "    }\n",
       "\n",
       "    .dataframe tbody tr th {\n",
       "        vertical-align: top;\n",
       "    }\n",
       "\n",
       "    .dataframe thead th {\n",
       "        text-align: right;\n",
       "    }\n",
       "</style>\n",
       "<table border=\"1\" class=\"dataframe\">\n",
       "  <thead>\n",
       "    <tr style=\"text-align: right;\">\n",
       "      <th></th>\n",
       "      <th>0</th>\n",
       "      <th>1</th>\n",
       "      <th>2</th>\n",
       "    </tr>\n",
       "  </thead>\n",
       "  <tbody>\n",
       "    <tr>\n",
       "      <th>0</th>\n",
       "      <td>7.0</td>\n",
       "      <td>3.2</td>\n",
       "      <td>0</td>\n",
       "    </tr>\n",
       "    <tr>\n",
       "      <th>1</th>\n",
       "      <td>6.4</td>\n",
       "      <td>3.2</td>\n",
       "      <td>0</td>\n",
       "    </tr>\n",
       "    <tr>\n",
       "      <th>2</th>\n",
       "      <td>6.9</td>\n",
       "      <td>3.1</td>\n",
       "      <td>0</td>\n",
       "    </tr>\n",
       "    <tr>\n",
       "      <th>3</th>\n",
       "      <td>5.5</td>\n",
       "      <td>2.3</td>\n",
       "      <td>0</td>\n",
       "    </tr>\n",
       "    <tr>\n",
       "      <th>4</th>\n",
       "      <td>6.5</td>\n",
       "      <td>2.8</td>\n",
       "      <td>0</td>\n",
       "    </tr>\n",
       "    <tr>\n",
       "      <th>...</th>\n",
       "      <td>...</td>\n",
       "      <td>...</td>\n",
       "      <td>...</td>\n",
       "    </tr>\n",
       "    <tr>\n",
       "      <th>95</th>\n",
       "      <td>6.7</td>\n",
       "      <td>3.0</td>\n",
       "      <td>1</td>\n",
       "    </tr>\n",
       "    <tr>\n",
       "      <th>96</th>\n",
       "      <td>6.3</td>\n",
       "      <td>2.5</td>\n",
       "      <td>1</td>\n",
       "    </tr>\n",
       "    <tr>\n",
       "      <th>97</th>\n",
       "      <td>6.5</td>\n",
       "      <td>3.0</td>\n",
       "      <td>1</td>\n",
       "    </tr>\n",
       "    <tr>\n",
       "      <th>98</th>\n",
       "      <td>6.2</td>\n",
       "      <td>3.4</td>\n",
       "      <td>1</td>\n",
       "    </tr>\n",
       "    <tr>\n",
       "      <th>99</th>\n",
       "      <td>5.9</td>\n",
       "      <td>3.0</td>\n",
       "      <td>1</td>\n",
       "    </tr>\n",
       "  </tbody>\n",
       "</table>\n",
       "<p>100 rows × 3 columns</p>\n",
       "</div>"
      ],
      "text/plain": [
       "      0    1  2\n",
       "0   7.0  3.2  0\n",
       "1   6.4  3.2  0\n",
       "2   6.9  3.1  0\n",
       "3   5.5  2.3  0\n",
       "4   6.5  2.8  0\n",
       "..  ...  ... ..\n",
       "95  6.7  3.0  1\n",
       "96  6.3  2.5  1\n",
       "97  6.5  3.0  1\n",
       "98  6.2  3.4  1\n",
       "99  5.9  3.0  1\n",
       "\n",
       "[100 rows x 3 columns]"
      ]
     },
     "execution_count": 3,
     "metadata": {},
     "output_type": "execute_result"
    }
   ],
   "source": [
    "data"
   ]
  },
  {
   "cell_type": "markdown",
   "id": "fef24695",
   "metadata": {},
   "source": [
    "This dataset consists of 100 datapoints with three feature variables.\n"
   ]
  },
  {
   "cell_type": "code",
   "execution_count": 4,
   "id": "8372d4a1",
   "metadata": {},
   "outputs": [
    {
     "data": {
      "text/plain": [
       "0    50\n",
       "1    50\n",
       "Name: 2, dtype: int64"
      ]
     },
     "execution_count": 4,
     "metadata": {},
     "output_type": "execute_result"
    }
   ],
   "source": [
    "data[2].value_counts()"
   ]
  },
  {
   "cell_type": "markdown",
   "id": "30430007",
   "metadata": {},
   "source": [
    "# Scatterplot of original dataset\n"
   ]
  },
  {
   "cell_type": "code",
   "execution_count": 5,
   "id": "29e1fc37",
   "metadata": {},
   "outputs": [
    {
     "name": "stderr",
     "output_type": "stream",
     "text": [
      "C:\\Users\\DELL\\anaconda3\\lib\\site-packages\\seaborn\\_decorators.py:36: FutureWarning: Pass the following variables as keyword args: x, y. From version 0.12, the only valid positional argument will be `data`, and passing other arguments without an explicit keyword will result in an error or misinterpretation.\n",
      "  warnings.warn(\n"
     ]
    },
    {
     "data": {
      "text/plain": [
       "<AxesSubplot:xlabel='0', ylabel='1'>"
      ]
     },
     "execution_count": 5,
     "metadata": {},
     "output_type": "execute_result"
    },
    {
     "data": {
      "image/png": "[encoded data removed]",
      "text/plain": [
       "<Figure size 432x288 with 1 Axes>"
      ]
     },
     "metadata": {
      "needs_background": "light"
     },
     "output_type": "display_data"
    }
   ],
   "source": [
    "sns.scatterplot(data[0],data[1],hue=data[2])"
   ]
  },
  {
   "cell_type": "markdown",
   "id": "f91e7bda",
   "metadata": {},
   "source": [
    "# Splitting of dataset"
   ]
  },
  {
   "cell_type": "code",
   "execution_count": 67,
   "id": "48ded00c",
   "metadata": {},
   "outputs": [],
   "source": [
    "x_train,x_test,y_train,y_test=train_test_split(data[[0,1]],data[2],test_size=0.1)"
   ]
  },
  {
   "cell_type": "code",
   "execution_count": 68,
   "id": "a09666e0",
   "metadata": {},
   "outputs": [],
   "source": [
    "scaler = StandardScaler()\n"
   ]
  },
  {
   "cell_type": "code",
   "execution_count": 69,
   "id": "148097b7",
   "metadata": {},
   "outputs": [],
   "source": [
    "scalard=scaler.fit_transform(x_train)"
   ]
  },
  {
   "cell_type": "markdown",
   "id": "7fe7f187",
   "metadata": {},
   "source": [
    "# Creating hidden layers "
   ]
  },
  {
   "cell_type": "code",
   "execution_count": 70,
   "id": "3d0ba653",
   "metadata": {},
   "outputs": [],
   "source": [
    "model = Sequential()\n",
    "model.add(Dense(7,activation='relu',input_dim=2,kernel_initializer=\"he_uniform\"))\n",
    "model.add(Dense(4,activation='tanh',kernel_initializer=\"glorot_uniform\"))\n",
    "model.add(Dropout(0.3))\n",
    "\n",
    "model.add(Dense(1,activation='sigmoid'))"
   ]
  },
  {
   "cell_type": "markdown",
   "id": "b923c26e",
   "metadata": {},
   "source": [
    "Here I created four dense layers that is nothing but fully connected layers .\n",
    "\n",
    "activation function used is sigmoid which works best with the combination of glorot_normal/unoform kernel_initializer\n",
    "\n",
    "the final layer should be sigmoid activation function as it is dealing with binary classification only one output is required"
   ]
  },
  {
   "cell_type": "code",
   "execution_count": 71,
   "id": "61ee4b6f",
   "metadata": {},
   "outputs": [
    {
     "name": "stdout",
     "output_type": "stream",
     "text": [
      "Model: \"sequential_6\"\n",
      "_________________________________________________________________\n",
      " Layer (type)                Output Shape              Param #   \n",
      "=================================================================\n",
      " dense_18 (Dense)            (None, 7)                 21        \n",
      "                                                                 \n",
      " dense_19 (Dense)            (None, 4)                 32        \n",
      "                                                                 \n",
      " dropout_1 (Dropout)         (None, 4)                 0         \n",
      "                                                                 \n",
      " dense_20 (Dense)            (None, 1)                 5         \n",
      "                                                                 \n",
      "=================================================================\n",
      "Total params: 58\n",
      "Trainable params: 58\n",
      "Non-trainable params: 0\n",
      "_________________________________________________________________\n"
     ]
    }
   ],
   "source": [
    "model.summary()"
   ]
  },
  {
   "cell_type": "markdown",
   "id": "5aa68a8c",
   "metadata": {},
   "source": [
    "# Compiler"
   ]
  },
  {
   "cell_type": "code",
   "execution_count": 72,
   "id": "45334f1f",
   "metadata": {},
   "outputs": [],
   "source": [
    "model.compile(optimizer=\"Adam\",loss=\"binary_crossentropy\",metrics=[\"accuracy\"])"
   ]
  },
  {
   "cell_type": "markdown",
   "id": "99d3466a",
   "metadata": {},
   "source": [
    "compiling we get to know the loss fuction and optimal weight by optimizer accuracy by metrics\n",
    "\n",
    "optimizer which is widely used is \"adam\" \n",
    "\n",
    "as it is two class classification we use binary_crossentropy as loss function "
   ]
  },
  {
   "cell_type": "markdown",
   "id": "636f7340",
   "metadata": {},
   "source": [
    "# Training"
   ]
  },
  {
   "cell_type": "code",
   "execution_count": 73,
   "id": "8ac57ca0",
   "metadata": {},
   "outputs": [
    {
     "name": "stdout",
     "output_type": "stream",
     "text": [
      "Epoch 1/20\n",
      "8/8 [==============================] - 3s 75ms/step - loss: 1.1371 - accuracy: 0.4306 - val_loss: 1.0445 - val_accuracy: 0.4444\n",
      "Epoch 2/20\n",
      "8/8 [==============================] - 0s 21ms/step - loss: 1.0477 - accuracy: 0.5000 - val_loss: 1.0318 - val_accuracy: 0.4444\n",
      "Epoch 3/20\n",
      "8/8 [==============================] - 0s 13ms/step - loss: 0.9282 - accuracy: 0.5139 - val_loss: 1.0196 - val_accuracy: 0.4444\n",
      "Epoch 4/20\n",
      "8/8 [==============================] - 0s 11ms/step - loss: 0.9773 - accuracy: 0.5417 - val_loss: 1.0086 - val_accuracy: 0.4444\n",
      "Epoch 5/20\n",
      "8/8 [==============================] - 0s 11ms/step - loss: 0.9646 - accuracy: 0.5000 - val_loss: 0.9963 - val_accuracy: 0.4444\n",
      "Epoch 6/20\n",
      "8/8 [==============================] - 0s 13ms/step - loss: 0.9671 - accuracy: 0.5139 - val_loss: 0.9838 - val_accuracy: 0.4444\n",
      "Epoch 7/20\n",
      "8/8 [==============================] - 0s 11ms/step - loss: 0.9825 - accuracy: 0.4722 - val_loss: 0.9711 - val_accuracy: 0.4444\n",
      "Epoch 8/20\n",
      "8/8 [==============================] - 0s 51ms/step - loss: 1.0186 - accuracy: 0.4722 - val_loss: 0.9576 - val_accuracy: 0.4444\n",
      "Epoch 9/20\n",
      "8/8 [==============================] - 0s 19ms/step - loss: 0.9095 - accuracy: 0.5556 - val_loss: 0.9436 - val_accuracy: 0.4444\n",
      "Epoch 10/20\n",
      "8/8 [==============================] - 0s 11ms/step - loss: 1.0646 - accuracy: 0.4583 - val_loss: 0.9287 - val_accuracy: 0.4444\n",
      "Epoch 11/20\n",
      "8/8 [==============================] - 0s 11ms/step - loss: 0.8927 - accuracy: 0.4861 - val_loss: 0.9133 - val_accuracy: 0.4444\n",
      "Epoch 12/20\n",
      "8/8 [==============================] - 0s 12ms/step - loss: 0.9114 - accuracy: 0.4722 - val_loss: 0.8958 - val_accuracy: 0.4444\n",
      "Epoch 13/20\n",
      "8/8 [==============================] - 0s 12ms/step - loss: 0.9060 - accuracy: 0.5278 - val_loss: 0.8747 - val_accuracy: 0.4444\n",
      "Epoch 14/20\n",
      "8/8 [==============================] - 0s 17ms/step - loss: 0.9105 - accuracy: 0.4444 - val_loss: 0.8483 - val_accuracy: 0.4444\n",
      "Epoch 15/20\n",
      "8/8 [==============================] - 0s 16ms/step - loss: 0.9374 - accuracy: 0.4861 - val_loss: 0.8132 - val_accuracy: 0.4444\n",
      "Epoch 16/20\n",
      "8/8 [==============================] - 0s 17ms/step - loss: 0.8369 - accuracy: 0.5000 - val_loss: 0.7757 - val_accuracy: 0.4444\n",
      "Epoch 17/20\n",
      "8/8 [==============================] - 0s 15ms/step - loss: 0.7931 - accuracy: 0.5417 - val_loss: 0.7447 - val_accuracy: 0.4444\n",
      "Epoch 18/20\n",
      "8/8 [==============================] - 0s 11ms/step - loss: 0.8268 - accuracy: 0.3750 - val_loss: 0.7153 - val_accuracy: 0.4444\n",
      "Epoch 19/20\n",
      "8/8 [==============================] - 0s 11ms/step - loss: 0.7047 - accuracy: 0.5694 - val_loss: 0.6967 - val_accuracy: 0.4444\n",
      "Epoch 20/20\n",
      "8/8 [==============================] - 0s 17ms/step - loss: 0.7530 - accuracy: 0.4167 - val_loss: 0.6858 - val_accuracy: 0.5000\n"
     ]
    }
   ],
   "source": [
    "save=model.fit(x_train,y_train,batch_size=10,epochs=20,verbose=1,validation_split=0.2)"
   ]
  },
  {
   "cell_type": "markdown",
   "id": "7f1adbe3",
   "metadata": {},
   "source": [
    "for training we use training set\n",
    "\n",
    "when we give batchsize internally is is using mini_batch SGD \n",
    "\n",
    "epochs used are 20 , it gives loss function for every epoch \n",
    "\n",
    "1 epoch is equal to all the datapoints once finish iteration \n",
    "\n",
    "here total 100 datapoints batch_size is 10 that means 10 batchs , that is if 10 batche sfinish their iteration once \n",
    "\n",
    "it is 1 epoch and 1 loss function"
   ]
  },
  {
   "cell_type": "code",
   "execution_count": 74,
   "id": "a65dbd45",
   "metadata": {},
   "outputs": [],
   "source": [
    "tl=save.history[\"loss\"]\n",
    "cvl=save.history[\"val_loss\"]"
   ]
  },
  {
   "cell_type": "code",
   "execution_count": 75,
   "id": "2f33ec75",
   "metadata": {},
   "outputs": [
    {
     "data": {
      "text/plain": [
       "[<matplotlib.lines.Line2D at 0x1f981570a60>]"
      ]
     },
     "execution_count": 75,
     "metadata": {},
     "output_type": "execute_result"
    },
    {
     "data": {
      "image/png": "[encoded data removed]",
      "text/plain": [
       "<Figure size 432x288 with 1 Axes>"
      ]
     },
     "metadata": {
      "needs_background": "light"
     },
     "output_type": "display_data"
    }
   ],
   "source": [
    "plt.plot(range(1,21),tl,label=\"training_loss\")\n",
    "plt.plot(range(1,21),cvl,label=\"crossval_loss\")"
   ]
  },
  {
   "cell_type": "code",
   "execution_count": 76,
   "id": "c4045552",
   "metadata": {},
   "outputs": [
    {
     "name": "stdout",
     "output_type": "stream",
     "text": [
      "3/3 [==============================] - 0s 10ms/step\n"
     ]
    }
   ],
   "source": [
    "pred=model.predict(x_train)"
   ]
  },
  {
   "cell_type": "code",
   "execution_count": 77,
   "id": "387b722e",
   "metadata": {},
   "outputs": [],
   "source": [
    "predi1=np.where(pred>0.5,1,0).flatten()"
   ]
  },
  {
   "cell_type": "code",
   "execution_count": 78,
   "id": "d6305d36",
   "metadata": {},
   "outputs": [
    {
     "data": {
      "text/plain": [
       "0.5333333333333333"
      ]
     },
     "execution_count": 78,
     "metadata": {},
     "output_type": "execute_result"
    }
   ],
   "source": [
    "accuracy_score(y_train,predi1)"
   ]
  },
  {
   "cell_type": "code",
   "execution_count": 35,
   "id": "2ddcb339",
   "metadata": {},
   "outputs": [],
   "source": [
    "from mlxtend.plotting import plot_decision_regions"
   ]
  },
  {
   "cell_type": "code",
   "execution_count": 36,
   "id": "9ffca31a",
   "metadata": {},
   "outputs": [
    {
     "name": "stdout",
     "output_type": "stream",
     "text": [
      "3888/3888 [==============================] - 10s 3ms/step\n"
     ]
    },
    {
     "name": "stderr",
     "output_type": "stream",
     "text": [
      "C:\\Users\\DELL\\anaconda3\\lib\\site-packages\\mlxtend\\plotting\\decision_regions.py:269: UserWarning: No contour levels were found within the data range.\n",
      "  ax.contour(xx, yy, Z, cset.levels, **contour_kwargs)\n"
     ]
    },
    {
     "data": {
      "text/plain": [
       "<AxesSubplot:>"
      ]
     },
     "execution_count": 36,
     "metadata": {},
     "output_type": "execute_result"
    },
    {
     "data": {
      "image/png": "[encoded data removed]",
      "text/plain": [
       "<Figure size 432x288 with 1 Axes>"
      ]
     },
     "metadata": {
      "needs_background": "light"
     },
     "output_type": "display_data"
    }
   ],
   "source": [
    "plot_decision_regions(x_train[[0,1]].values,y_train.values.astype(int),clf=model)"
   ]
  },
  {
   "cell_type": "code",
   "execution_count": 79,
   "id": "3693a1ee",
   "metadata": {},
   "outputs": [],
   "source": [
    "model1 = Sequential()\n",
    "model1.add(Dense(7,activation='tanh',input_dim=2,kernel_initializer=\"glorot_normal\"))\n",
    "model1.add(Dense(4,activation='tanh',kernel_initializer=\"glorot_normal\"))\n",
    "\n",
    "model1.add(Dense(1,activation='sigmoid'))"
   ]
  },
  {
   "cell_type": "code",
   "execution_count": 80,
   "id": "a8b14950",
   "metadata": {},
   "outputs": [
    {
     "name": "stdout",
     "output_type": "stream",
     "text": [
      "Model: \"sequential_7\"\n",
      "_________________________________________________________________\n",
      " Layer (type)                Output Shape              Param #   \n",
      "=================================================================\n",
      " dense_21 (Dense)            (None, 7)                 21        \n",
      "                                                                 \n",
      " dense_22 (Dense)            (None, 4)                 32        \n",
      "                                                                 \n",
      " dense_23 (Dense)            (None, 1)                 5         \n",
      "                                                                 \n",
      "=================================================================\n",
      "Total params: 58\n",
      "Trainable params: 58\n",
      "Non-trainable params: 0\n",
      "_________________________________________________________________\n"
     ]
    }
   ],
   "source": [
    "model1.summary()"
   ]
  },
  {
   "cell_type": "code",
   "execution_count": 81,
   "id": "78d49787",
   "metadata": {},
   "outputs": [],
   "source": [
    "model1.compile(optimizer=\"Adam\",loss=\"binary_crossentropy\",metrics=[\"accuracy\"])"
   ]
  },
  {
   "cell_type": "code",
   "execution_count": 82,
   "id": "73787c02",
   "metadata": {},
   "outputs": [
    {
     "name": "stdout",
     "output_type": "stream",
     "text": [
      "Epoch 1/20\n",
      "8/8 [==============================] - 2s 68ms/step - loss: 0.7006 - accuracy: 0.5139 - val_loss: 0.6870 - val_accuracy: 0.5556\n",
      "Epoch 2/20\n",
      "8/8 [==============================] - 0s 14ms/step - loss: 0.6967 - accuracy: 0.5139 - val_loss: 0.6868 - val_accuracy: 0.5556\n",
      "Epoch 3/20\n",
      "8/8 [==============================] - 0s 13ms/step - loss: 0.6957 - accuracy: 0.5139 - val_loss: 0.6867 - val_accuracy: 0.5556\n",
      "Epoch 4/20\n",
      "8/8 [==============================] - 0s 11ms/step - loss: 0.6957 - accuracy: 0.5139 - val_loss: 0.6867 - val_accuracy: 0.5556\n",
      "Epoch 5/20\n",
      "8/8 [==============================] - 0s 12ms/step - loss: 0.6948 - accuracy: 0.5139 - val_loss: 0.6866 - val_accuracy: 0.5556\n",
      "Epoch 6/20\n",
      "8/8 [==============================] - 0s 11ms/step - loss: 0.6937 - accuracy: 0.5139 - val_loss: 0.6870 - val_accuracy: 0.5556\n",
      "Epoch 7/20\n",
      "8/8 [==============================] - 0s 11ms/step - loss: 0.6926 - accuracy: 0.5139 - val_loss: 0.6878 - val_accuracy: 0.5556\n",
      "Epoch 8/20\n",
      "8/8 [==============================] - 0s 12ms/step - loss: 0.6921 - accuracy: 0.5139 - val_loss: 0.6892 - val_accuracy: 0.5556\n",
      "Epoch 9/20\n",
      "8/8 [==============================] - 0s 12ms/step - loss: 0.6922 - accuracy: 0.5139 - val_loss: 0.6908 - val_accuracy: 0.5556\n",
      "Epoch 10/20\n",
      "8/8 [==============================] - 0s 11ms/step - loss: 0.6927 - accuracy: 0.5833 - val_loss: 0.6922 - val_accuracy: 0.6111\n",
      "Epoch 11/20\n",
      "8/8 [==============================] - 0s 11ms/step - loss: 0.6923 - accuracy: 0.5972 - val_loss: 0.6919 - val_accuracy: 0.7778\n",
      "Epoch 12/20\n",
      "8/8 [==============================] - 0s 12ms/step - loss: 0.6921 - accuracy: 0.6944 - val_loss: 0.6915 - val_accuracy: 0.6667\n",
      "Epoch 13/20\n",
      "8/8 [==============================] - 0s 11ms/step - loss: 0.6925 - accuracy: 0.5556 - val_loss: 0.6904 - val_accuracy: 0.5556\n",
      "Epoch 14/20\n",
      "8/8 [==============================] - 0s 12ms/step - loss: 0.6917 - accuracy: 0.5000 - val_loss: 0.6908 - val_accuracy: 0.5556\n",
      "Epoch 15/20\n",
      "8/8 [==============================] - 0s 11ms/step - loss: 0.6915 - accuracy: 0.5139 - val_loss: 0.6907 - val_accuracy: 0.5556\n",
      "Epoch 16/20\n",
      "8/8 [==============================] - 0s 12ms/step - loss: 0.6915 - accuracy: 0.5417 - val_loss: 0.6905 - val_accuracy: 0.5556\n",
      "Epoch 17/20\n",
      "8/8 [==============================] - 0s 10ms/step - loss: 0.6914 - accuracy: 0.5556 - val_loss: 0.6904 - val_accuracy: 0.5556\n",
      "Epoch 18/20\n",
      "8/8 [==============================] - 0s 15ms/step - loss: 0.6911 - accuracy: 0.5556 - val_loss: 0.6901 - val_accuracy: 0.5556\n",
      "Epoch 19/20\n",
      "8/8 [==============================] - 0s 14ms/step - loss: 0.6909 - accuracy: 0.5556 - val_loss: 0.6895 - val_accuracy: 0.5556\n",
      "Epoch 20/20\n",
      "8/8 [==============================] - 0s 12ms/step - loss: 0.6914 - accuracy: 0.5139 - val_loss: 0.6882 - val_accuracy: 0.5556\n"
     ]
    }
   ],
   "source": [
    "save1=model1.fit(x_train,y_train,batch_size=10,epochs=20,verbose=1,validation_split=0.2)"
   ]
  },
  {
   "cell_type": "code",
   "execution_count": 83,
   "id": "ca559b61",
   "metadata": {},
   "outputs": [],
   "source": [
    "tl1=save1.history[\"loss\"]\n",
    "cvl1=save1.history[\"val_loss\"]"
   ]
  },
  {
   "cell_type": "code",
   "execution_count": 84,
   "id": "b04e26cd",
   "metadata": {},
   "outputs": [
    {
     "data": {
      "text/plain": [
       "[<matplotlib.lines.Line2D at 0x1f9ffbbf2e0>]"
      ]
     },
     "execution_count": 84,
     "metadata": {},
     "output_type": "execute_result"
    },
    {
     "data": {
      "image/png": "[encoded data removed]",
      "text/plain": [
       "<Figure size 432x288 with 1 Axes>"
      ]
     },
     "metadata": {
      "needs_background": "light"
     },
     "output_type": "display_data"
    }
   ],
   "source": [
    "plt.plot(range(1,21),tl1,label=\"training_loss\")\n",
    "plt.plot(range(1,21),cvl1,label=\"crossval_loss\")"
   ]
  },
  {
   "cell_type": "code",
   "execution_count": 85,
   "id": "a36928c2",
   "metadata": {},
   "outputs": [
    {
     "name": "stdout",
     "output_type": "stream",
     "text": [
      "3/3 [==============================] - 0s 6ms/step\n"
     ]
    }
   ],
   "source": [
    "pred1=model1.predict(x_train)"
   ]
  },
  {
   "cell_type": "code",
   "execution_count": 86,
   "id": "0d6c2527",
   "metadata": {},
   "outputs": [],
   "source": [
    "predi=np.where(pred1>0.5,1,0).flatten()"
   ]
  },
  {
   "cell_type": "code",
   "execution_count": 87,
   "id": "8d076291",
   "metadata": {},
   "outputs": [
    {
     "data": {
      "text/plain": [
       "0.5333333333333333"
      ]
     },
     "execution_count": 87,
     "metadata": {},
     "output_type": "execute_result"
    }
   ],
   "source": [
    "accuracy_score(y_train,predi1)"
   ]
  },
  {
   "cell_type": "code",
   "execution_count": 88,
   "id": "8d324ee5",
   "metadata": {},
   "outputs": [],
   "source": [
    "from mlxtend.plotting import plot_decision_regions"
   ]
  },
  {
   "cell_type": "code",
   "execution_count": 89,
   "id": "2e9e0d13",
   "metadata": {},
   "outputs": [
    {
     "name": "stdout",
     "output_type": "stream",
     "text": [
      "3888/3888 [==============================] - 8s 2ms/step\n"
     ]
    },
    {
     "data": {
      "text/plain": [
       "<AxesSubplot:>"
      ]
     },
     "execution_count": 89,
     "metadata": {},
     "output_type": "execute_result"
    },
    {
     "data": {
      "image/png": "[encoded data removed]",
      "text/plain": [
       "<Figure size 432x288 with 1 Axes>"
      ]
     },
     "metadata": {
      "needs_background": "light"
     },
     "output_type": "display_data"
    }
   ],
   "source": [
    "plot_decision_regions(x_train[[0,1]].values,y_train.values.astype(int),clf=model1)"
   ]
  },
  {
   "cell_type": "code",
   "execution_count": null,
   "id": "b0978ae2",
   "metadata": {},
   "outputs": [],
   "source": []
  }
 ],
 "metadata": {
  "kernelspec": {
   "display_name": "Python 3 (ipykernel)",
   "language": "python",
   "name": "python3"
  },
  "language_info": {
   "codemirror_mode": {
    "name": "ipython",
    "version": 3
   },
   "file_extension": ".py",
   "mimetype": "text/x-python",
   "name": "python",
   "nbconvert_exporter": "python",
   "pygments_lexer": "ipython3",
   "version": "3.9.12"
  }
 },
 "nbformat": 4,
 "nbformat_minor": 5
}
