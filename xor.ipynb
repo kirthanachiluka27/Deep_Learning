{
 "cells": [
  {
   "cell_type": "markdown",
   "id": "4cfadb00",
   "metadata": {},
   "source": [
    "# Desicion surface based on MLP"
   ]
  },
  {
   "cell_type": "markdown",
   "id": "46fd9946",
   "metadata": {},
   "source": [
    "# Importing required libraries"
   ]
  },
  {
   "cell_type": "code",
   "execution_count": 1,
   "id": "ad4a9355",
   "metadata": {},
   "outputs": [],
   "source": [
    "import pandas as pd\n",
    "from sklearn.model_selection import train_test_split\n",
    "import numpy as np\n",
    "import sklearn\n",
    "import seaborn as sns\n",
    "from sklearn.preprocessing import StandardScaler\n",
    "\n",
    "from sklearn.metrics import accuracy_score\n",
    "import seaborn as sns\n",
    "import matplotlib.pyplot as plt\n",
    "import tensorflow\n",
    "from tensorflow import keras\n",
    "from tensorflow.keras import Sequential \n",
    "from tensorflow.keras.layers import Dense, Dropout\n",
    "from mlxtend.plotting import plot_decision_regions;"
   ]
  },
  {
   "cell_type": "code",
   "execution_count": 2,
   "id": "76fc4019",
   "metadata": {},
   "outputs": [],
   "source": [
    "data=pd.read_csv(r\"C:\\Users\\DELL\\Desktop\\downloads\\7.xor.csv\",header=None)"
   ]
  },
  {
   "cell_type": "code",
   "execution_count": 3,
   "id": "ee72216b",
   "metadata": {},
   "outputs": [
    {
     "data": {
      "text/html": [
       "<div>\n",
       "<style scoped>\n",
       "    .dataframe tbody tr th:only-of-type {\n",
       "        vertical-align: middle;\n",
       "    }\n",
       "\n",
       "    .dataframe tbody tr th {\n",
       "        vertical-align: top;\n",
       "    }\n",
       "\n",
       "    .dataframe thead th {\n",
       "        text-align: right;\n",
       "    }\n",
       "</style>\n",
       "<table border=\"1\" class=\"dataframe\">\n",
       "  <thead>\n",
       "    <tr style=\"text-align: right;\">\n",
       "      <th></th>\n",
       "      <th>0</th>\n",
       "      <th>1</th>\n",
       "      <th>2</th>\n",
       "    </tr>\n",
       "  </thead>\n",
       "  <tbody>\n",
       "    <tr>\n",
       "      <th>0</th>\n",
       "      <td>1.764052</td>\n",
       "      <td>0.400157</td>\n",
       "      <td>-1.0</td>\n",
       "    </tr>\n",
       "    <tr>\n",
       "      <th>1</th>\n",
       "      <td>0.978738</td>\n",
       "      <td>2.240893</td>\n",
       "      <td>-1.0</td>\n",
       "    </tr>\n",
       "    <tr>\n",
       "      <th>2</th>\n",
       "      <td>1.867558</td>\n",
       "      <td>-0.977278</td>\n",
       "      <td>1.0</td>\n",
       "    </tr>\n",
       "    <tr>\n",
       "      <th>3</th>\n",
       "      <td>0.950088</td>\n",
       "      <td>-0.151357</td>\n",
       "      <td>1.0</td>\n",
       "    </tr>\n",
       "    <tr>\n",
       "      <th>4</th>\n",
       "      <td>-0.103219</td>\n",
       "      <td>0.410599</td>\n",
       "      <td>1.0</td>\n",
       "    </tr>\n",
       "    <tr>\n",
       "      <th>...</th>\n",
       "      <td>...</td>\n",
       "      <td>...</td>\n",
       "      <td>...</td>\n",
       "    </tr>\n",
       "    <tr>\n",
       "      <th>495</th>\n",
       "      <td>0.441033</td>\n",
       "      <td>0.178793</td>\n",
       "      <td>-1.0</td>\n",
       "    </tr>\n",
       "    <tr>\n",
       "      <th>496</th>\n",
       "      <td>-0.799422</td>\n",
       "      <td>0.240788</td>\n",
       "      <td>1.0</td>\n",
       "    </tr>\n",
       "    <tr>\n",
       "      <th>497</th>\n",
       "      <td>0.289121</td>\n",
       "      <td>0.412871</td>\n",
       "      <td>-1.0</td>\n",
       "    </tr>\n",
       "    <tr>\n",
       "      <th>498</th>\n",
       "      <td>-0.198399</td>\n",
       "      <td>0.094192</td>\n",
       "      <td>1.0</td>\n",
       "    </tr>\n",
       "    <tr>\n",
       "      <th>499</th>\n",
       "      <td>-1.147611</td>\n",
       "      <td>-0.358114</td>\n",
       "      <td>-1.0</td>\n",
       "    </tr>\n",
       "  </tbody>\n",
       "</table>\n",
       "<p>500 rows × 3 columns</p>\n",
       "</div>"
      ],
      "text/plain": [
       "            0         1    2\n",
       "0    1.764052  0.400157 -1.0\n",
       "1    0.978738  2.240893 -1.0\n",
       "2    1.867558 -0.977278  1.0\n",
       "3    0.950088 -0.151357  1.0\n",
       "4   -0.103219  0.410599  1.0\n",
       "..        ...       ...  ...\n",
       "495  0.441033  0.178793 -1.0\n",
       "496 -0.799422  0.240788  1.0\n",
       "497  0.289121  0.412871 -1.0\n",
       "498 -0.198399  0.094192  1.0\n",
       "499 -1.147611 -0.358114 -1.0\n",
       "\n",
       "[500 rows x 3 columns]"
      ]
     },
     "execution_count": 3,
     "metadata": {},
     "output_type": "execute_result"
    }
   ],
   "source": [
    "data"
   ]
  },
  {
   "cell_type": "markdown",
   "id": "eb153594",
   "metadata": {},
   "source": [
    "This dataset consists of 500 datapoints with three feature variables.\n",
    "\n"
   ]
  },
  {
   "cell_type": "code",
   "execution_count": 4,
   "id": "0a2ec054",
   "metadata": {},
   "outputs": [
    {
     "data": {
      "text/plain": [
       "-1.0    260\n",
       " 1.0    240\n",
       "Name: 2, dtype: int64"
      ]
     },
     "execution_count": 4,
     "metadata": {},
     "output_type": "execute_result"
    }
   ],
   "source": [
    "data[2].value_counts()"
   ]
  },
  {
   "cell_type": "markdown",
   "id": "6e3cbb42",
   "metadata": {},
   "source": [
    "The data[2] is the class lable and has two unique values"
   ]
  },
  {
   "cell_type": "code",
   "execution_count": 5,
   "id": "4f1af5e0",
   "metadata": {},
   "outputs": [
    {
     "data": {
      "text/plain": [
       "(500, 2)"
      ]
     },
     "execution_count": 5,
     "metadata": {},
     "output_type": "execute_result"
    }
   ],
   "source": [
    "data[[1,0]].shape"
   ]
  },
  {
   "cell_type": "markdown",
   "id": "75cc12d7",
   "metadata": {},
   "source": [
    "# Scatterplot of original dataset"
   ]
  },
  {
   "cell_type": "code",
   "execution_count": 6,
   "id": "2b2aff04",
   "metadata": {},
   "outputs": [
    {
     "name": "stderr",
     "output_type": "stream",
     "text": [
      "C:\\Users\\DELL\\anaconda3\\lib\\site-packages\\seaborn\\_decorators.py:36: FutureWarning: Pass the following variables as keyword args: x, y. From version 0.12, the only valid positional argument will be `data`, and passing other arguments without an explicit keyword will result in an error or misinterpretation.\n",
      "  warnings.warn(\n"
     ]
    },
    {
     "data": {
      "text/plain": [
       "<AxesSubplot:xlabel='0', ylabel='1'>"
      ]
     },
     "execution_count": 6,
     "metadata": {},
     "output_type": "execute_result"
    },
    {
     "data": {
      "image/png": "[encoded data removed]",
      "text/plain": [
       "<Figure size 432x288 with 1 Axes>"
      ]
     },
     "metadata": {
      "needs_background": "light"
     },
     "output_type": "display_data"
    }
   ],
   "source": [
    "sns.scatterplot(data[0],data[1],hue=data[2])"
   ]
  },
  {
   "cell_type": "markdown",
   "id": "f260b768",
   "metadata": {},
   "source": [
    "The above is the scatterplot which visualises the spread of all the observations for original dataset"
   ]
  },
  {
   "cell_type": "markdown",
   "id": "313752d2",
   "metadata": {},
   "source": [
    "# Splitting of dataset"
   ]
  },
  {
   "cell_type": "code",
   "execution_count": 7,
   "id": "01d40c10",
   "metadata": {},
   "outputs": [],
   "source": [
    "x_train,x_test,y_train,y_test=train_test_split(data[[0,1]],data[2],test_size=0.1)"
   ]
  },
  {
   "cell_type": "code",
   "execution_count": 8,
   "id": "85f14e44",
   "metadata": {},
   "outputs": [],
   "source": [
    "scaler = StandardScaler()\n"
   ]
  },
  {
   "cell_type": "code",
   "execution_count": 9,
   "id": "f3140825",
   "metadata": {},
   "outputs": [],
   "source": [
    "std=scaler.fit_transform(x_train)"
   ]
  },
  {
   "cell_type": "markdown",
   "id": "e6a65229",
   "metadata": {},
   "source": [
    "# Creating hidden layers "
   ]
  },
  {
   "cell_type": "code",
   "execution_count": 10,
   "id": "8692ead6",
   "metadata": {},
   "outputs": [],
   "source": [
    "model = Sequential()\n",
    "#this is a sequential data so initialising sequential is the first step\n",
    "model.add(Dense(8,activation='relu',input_dim=2,kernel_initializer=\"he_uniform\"))\n",
    "#to the sequential data we are making a dense layer with activation fiunction, input_dim is the dimension of dataset\n",
    "# kernel_initialiser you can use based on your activation function\n",
    "model.add(Dense(6,activation='relu',kernel_initializer=\"he_uniform\"))\n",
    "model.add(Dense(3,activation='relu',kernel_initializer=\"he_uniform\"))\n",
    "model.add(Dense(1,activation='sigmoid'))"
   ]
  },
  {
   "cell_type": "markdown",
   "id": "2408eec3",
   "metadata": {},
   "source": [
    "Here I created four dense layers that is nothing but fully connected layers .\n",
    "\n",
    "activation function used is relu which works best with the combination of he_normal/unoform kernel_initializer\n",
    "\n",
    "the final layer should be sigmoid activation function as it is dealing with binary classification only one output is required"
   ]
  },
  {
   "cell_type": "code",
   "execution_count": 11,
   "id": "eead974a",
   "metadata": {},
   "outputs": [
    {
     "name": "stdout",
     "output_type": "stream",
     "text": [
      "Model: \"sequential\"\n",
      "_________________________________________________________________\n",
      " Layer (type)                Output Shape              Param #   \n",
      "=================================================================\n",
      " dense (Dense)               (None, 8)                 24        \n",
      "                                                                 \n",
      " dense_1 (Dense)             (None, 6)                 54        \n",
      "                                                                 \n",
      " dense_2 (Dense)             (None, 3)                 21        \n",
      "                                                                 \n",
      " dense_3 (Dense)             (None, 1)                 4         \n",
      "                                                                 \n",
      "=================================================================\n",
      "Total params: 103\n",
      "Trainable params: 103\n",
      "Non-trainable params: 0\n",
      "_________________________________________________________________\n"
     ]
    }
   ],
   "source": [
    "model.summary()"
   ]
  },
  {
   "cell_type": "markdown",
   "id": "b9ebd62c",
   "metadata": {},
   "source": [
    "Summary describes total layers \n",
    "\n",
    "Total trainable parameters\n",
    "\n",
    "remembering one most importnt thing is every neuron has a bias \n",
    "\n"
   ]
  },
  {
   "cell_type": "markdown",
   "id": "b3b86490",
   "metadata": {},
   "source": [
    "# Compiling "
   ]
  },
  {
   "cell_type": "code",
   "execution_count": 12,
   "id": "52e96b5d",
   "metadata": {},
   "outputs": [],
   "source": [
    "\n",
    "model.compile(optimizer=\"Adam\",loss=\"binary_crossentropy\",metrics=[\"accuracy\"])"
   ]
  },
  {
   "cell_type": "markdown",
   "id": "48069ba0",
   "metadata": {},
   "source": [
    "compiling we get to know the loss fuction and optimal weight by optimizer accuracy by metrics\n",
    "\n",
    "optimizer which is widely used is \"adam\" \n",
    "\n",
    "as it is two class classification we use binary_crossentropy as loss function "
   ]
  },
  {
   "cell_type": "code",
   "execution_count": null,
   "id": "46aec892",
   "metadata": {},
   "outputs": [],
   "source": []
  },
  {
   "cell_type": "markdown",
   "id": "8886a863",
   "metadata": {},
   "source": [
    "# Training"
   ]
  },
  {
   "cell_type": "code",
   "execution_count": 13,
   "id": "afb8f54a",
   "metadata": {},
   "outputs": [
    {
     "name": "stdout",
     "output_type": "stream",
     "text": [
      "Epoch 1/50\n",
      "41/41 [==============================] - 11s 24ms/step - loss: 0.6813 - accuracy: 0.1901 - val_loss: 0.6550 - val_accuracy: 0.2444\n",
      "Epoch 2/50\n",
      "41/41 [==============================] - 0s 9ms/step - loss: 0.6341 - accuracy: 0.2889 - val_loss: 0.6025 - val_accuracy: 0.3333\n",
      "Epoch 3/50\n",
      "41/41 [==============================] - 0s 9ms/step - loss: 0.5861 - accuracy: 0.3827 - val_loss: 0.5474 - val_accuracy: 0.3556\n",
      "Epoch 4/50\n",
      "41/41 [==============================] - 0s 10ms/step - loss: 0.5340 - accuracy: 0.4370 - val_loss: 0.5028 - val_accuracy: 0.4000\n",
      "Epoch 5/50\n",
      "41/41 [==============================] - 0s 6ms/step - loss: 0.4909 - accuracy: 0.4494 - val_loss: 0.4573 - val_accuracy: 0.4000\n",
      "Epoch 6/50\n",
      "41/41 [==============================] - 0s 9ms/step - loss: 0.4507 - accuracy: 0.4420 - val_loss: 0.4202 - val_accuracy: 0.4000\n",
      "Epoch 7/50\n",
      "41/41 [==============================] - 0s 6ms/step - loss: 0.4123 - accuracy: 0.4444 - val_loss: 0.3799 - val_accuracy: 0.4000\n",
      "Epoch 8/50\n",
      "41/41 [==============================] - 0s 9ms/step - loss: 0.3747 - accuracy: 0.4469 - val_loss: 0.3435 - val_accuracy: 0.4000\n",
      "Epoch 9/50\n",
      "41/41 [==============================] - 0s 9ms/step - loss: 0.3389 - accuracy: 0.4370 - val_loss: 0.3129 - val_accuracy: 0.4000\n",
      "Epoch 10/50\n",
      "41/41 [==============================] - 0s 8ms/step - loss: 0.3022 - accuracy: 0.4420 - val_loss: 0.2695 - val_accuracy: 0.4000\n",
      "Epoch 11/50\n",
      "41/41 [==============================] - 0s 5ms/step - loss: 0.2678 - accuracy: 0.4296 - val_loss: 0.2406 - val_accuracy: 0.4000\n",
      "Epoch 12/50\n",
      "41/41 [==============================] - 0s 9ms/step - loss: 0.2339 - accuracy: 0.4346 - val_loss: 0.1979 - val_accuracy: 0.3778\n",
      "Epoch 13/50\n",
      "41/41 [==============================] - 0s 7ms/step - loss: 0.1998 - accuracy: 0.4321 - val_loss: 0.1607 - val_accuracy: 0.3778\n",
      "Epoch 14/50\n",
      "41/41 [==============================] - 0s 9ms/step - loss: 0.1668 - accuracy: 0.4198 - val_loss: 0.1291 - val_accuracy: 0.3778\n",
      "Epoch 15/50\n",
      "41/41 [==============================] - 0s 8ms/step - loss: 0.1320 - accuracy: 0.4272 - val_loss: 0.0939 - val_accuracy: 0.3778\n",
      "Epoch 16/50\n",
      "41/41 [==============================] - 0s 10ms/step - loss: 0.0989 - accuracy: 0.4321 - val_loss: 0.0563 - val_accuracy: 0.3778\n",
      "Epoch 17/50\n",
      "41/41 [==============================] - 0s 9ms/step - loss: 0.0703 - accuracy: 0.4272 - val_loss: 0.0277 - val_accuracy: 0.3556\n",
      "Epoch 18/50\n",
      "41/41 [==============================] - 0s 8ms/step - loss: 0.0371 - accuracy: 0.4247 - val_loss: -0.0055 - val_accuracy: 0.3778\n",
      "Epoch 19/50\n",
      "41/41 [==============================] - 0s 7ms/step - loss: 0.0060 - accuracy: 0.4296 - val_loss: -0.0416 - val_accuracy: 0.3778\n",
      "Epoch 20/50\n",
      "41/41 [==============================] - 0s 6ms/step - loss: -0.0245 - accuracy: 0.4321 - val_loss: -0.0634 - val_accuracy: 0.3778\n",
      "Epoch 21/50\n",
      "41/41 [==============================] - 0s 9ms/step - loss: -0.0539 - accuracy: 0.4247 - val_loss: -0.1016 - val_accuracy: 0.3556\n",
      "Epoch 22/50\n",
      "41/41 [==============================] - 0s 6ms/step - loss: -0.0821 - accuracy: 0.4247 - val_loss: -0.1322 - val_accuracy: 0.3556\n",
      "Epoch 23/50\n",
      "41/41 [==============================] - 0s 6ms/step - loss: -0.1102 - accuracy: 0.4296 - val_loss: -0.1583 - val_accuracy: 0.3556\n",
      "Epoch 24/50\n",
      "41/41 [==============================] - 0s 5ms/step - loss: -0.1395 - accuracy: 0.4099 - val_loss: -0.1946 - val_accuracy: 0.3556\n",
      "Epoch 25/50\n",
      "41/41 [==============================] - 1s 13ms/step - loss: -0.1669 - accuracy: 0.4272 - val_loss: -0.2190 - val_accuracy: 0.3778\n",
      "Epoch 26/50\n",
      "41/41 [==============================] - 0s 7ms/step - loss: -0.1949 - accuracy: 0.4198 - val_loss: -0.2453 - val_accuracy: 0.3778\n",
      "Epoch 27/50\n",
      "41/41 [==============================] - 0s 7ms/step - loss: -0.2217 - accuracy: 0.4198 - val_loss: -0.2745 - val_accuracy: 0.3778\n",
      "Epoch 28/50\n",
      "41/41 [==============================] - 0s 6ms/step - loss: -0.2468 - accuracy: 0.4198 - val_loss: -0.3072 - val_accuracy: 0.3556\n",
      "Epoch 29/50\n",
      "41/41 [==============================] - 0s 6ms/step - loss: -0.2730 - accuracy: 0.4173 - val_loss: -0.3343 - val_accuracy: 0.3556\n",
      "Epoch 30/50\n",
      "41/41 [==============================] - 0s 8ms/step - loss: -0.3003 - accuracy: 0.4198 - val_loss: -0.3529 - val_accuracy: 0.3778\n",
      "Epoch 31/50\n",
      "41/41 [==============================] - 0s 6ms/step - loss: -0.3271 - accuracy: 0.4198 - val_loss: -0.3853 - val_accuracy: 0.3778\n",
      "Epoch 32/50\n",
      "41/41 [==============================] - 0s 7ms/step - loss: -0.3514 - accuracy: 0.4198 - val_loss: -0.4154 - val_accuracy: 0.3778\n",
      "Epoch 33/50\n",
      "41/41 [==============================] - 0s 9ms/step - loss: -0.3770 - accuracy: 0.4198 - val_loss: -0.4426 - val_accuracy: 0.3778\n",
      "Epoch 34/50\n",
      "41/41 [==============================] - 0s 6ms/step - loss: -0.4017 - accuracy: 0.4222 - val_loss: -0.4730 - val_accuracy: 0.3778\n",
      "Epoch 35/50\n",
      "41/41 [==============================] - 0s 6ms/step - loss: -0.4263 - accuracy: 0.4222 - val_loss: -0.4902 - val_accuracy: 0.3778\n",
      "Epoch 36/50\n",
      "41/41 [==============================] - 0s 10ms/step - loss: -0.4501 - accuracy: 0.4247 - val_loss: -0.5208 - val_accuracy: 0.3556\n",
      "Epoch 37/50\n",
      "41/41 [==============================] - 0s 6ms/step - loss: -0.4749 - accuracy: 0.4148 - val_loss: -0.5471 - val_accuracy: 0.3556\n",
      "Epoch 38/50\n",
      "41/41 [==============================] - 0s 7ms/step - loss: -0.4986 - accuracy: 0.4247 - val_loss: -0.5720 - val_accuracy: 0.3778\n",
      "Epoch 39/50\n",
      "41/41 [==============================] - 0s 8ms/step - loss: -0.5236 - accuracy: 0.4222 - val_loss: -0.5910 - val_accuracy: 0.3556\n",
      "Epoch 40/50\n",
      "41/41 [==============================] - 0s 6ms/step - loss: -0.5452 - accuracy: 0.4222 - val_loss: -0.6200 - val_accuracy: 0.3778\n",
      "Epoch 41/50\n",
      "41/41 [==============================] - 0s 9ms/step - loss: -0.5678 - accuracy: 0.4222 - val_loss: -0.6493 - val_accuracy: 0.3556\n",
      "Epoch 42/50\n",
      "41/41 [==============================] - 0s 9ms/step - loss: -0.5921 - accuracy: 0.4222 - val_loss: -0.6684 - val_accuracy: 0.3556\n",
      "Epoch 43/50\n",
      "41/41 [==============================] - 0s 6ms/step - loss: -0.6165 - accuracy: 0.4247 - val_loss: -0.6957 - val_accuracy: 0.3778\n",
      "Epoch 44/50\n",
      "41/41 [==============================] - 0s 9ms/step - loss: -0.6388 - accuracy: 0.4247 - val_loss: -0.7205 - val_accuracy: 0.3556\n",
      "Epoch 45/50\n",
      "41/41 [==============================] - 0s 9ms/step - loss: -0.6622 - accuracy: 0.4272 - val_loss: -0.7455 - val_accuracy: 0.3556\n",
      "Epoch 46/50\n",
      "41/41 [==============================] - 0s 8ms/step - loss: -0.6853 - accuracy: 0.4296 - val_loss: -0.7717 - val_accuracy: 0.3778\n",
      "Epoch 47/50\n",
      "41/41 [==============================] - 0s 6ms/step - loss: -0.7082 - accuracy: 0.4198 - val_loss: -0.7970 - val_accuracy: 0.3778\n",
      "Epoch 48/50\n",
      "41/41 [==============================] - 0s 5ms/step - loss: -0.7282 - accuracy: 0.4222 - val_loss: -0.8243 - val_accuracy: 0.3556\n",
      "Epoch 49/50\n",
      "41/41 [==============================] - 0s 5ms/step - loss: -0.7526 - accuracy: 0.4247 - val_loss: -0.8480 - val_accuracy: 0.3556\n",
      "Epoch 50/50\n",
      "41/41 [==============================] - 0s 7ms/step - loss: -0.7762 - accuracy: 0.4222 - val_loss: -0.8659 - val_accuracy: 0.3556\n"
     ]
    }
   ],
   "source": [
    "save1=model.fit(x_train,y_train,batch_size=10,epochs=50,verbose=1,validation_split=0.1)"
   ]
  },
  {
   "cell_type": "markdown",
   "id": "04d1c85c",
   "metadata": {},
   "source": [
    "for training we use training set\n",
    "\n",
    "when we give batchsize internally is is using mini_batch SGD \n",
    "\n",
    "epochs used are 50 , it gives loss function for every epoch \n",
    "\n",
    "1 epoch is equal to all the datapoints once finish iteration \n",
    "\n",
    "here total 500 datapoints batch_size is 10 that means 50 batchs , that is if 50 batche sfinish their iteration once \n",
    "\n",
    "it is 1 epoch and 1 loss function"
   ]
  },
  {
   "cell_type": "code",
   "execution_count": 14,
   "id": "ba81b3b4",
   "metadata": {},
   "outputs": [
    {
     "name": "stdout",
     "output_type": "stream",
     "text": [
      "15/15 [==============================] - 1s 3ms/step\n"
     ]
    }
   ],
   "source": [
    "pred=model.predict(x_train)"
   ]
  },
  {
   "cell_type": "markdown",
   "id": "46735068",
   "metadata": {},
   "source": [
    "for predicting the model accuracy we pass x_train set and predict the model"
   ]
  },
  {
   "cell_type": "code",
   "execution_count": 15,
   "id": "0ceb0a5e",
   "metadata": {},
   "outputs": [],
   "source": [
    "pred1=np.where(pred>0.5,1,-1).flatten()"
   ]
  },
  {
   "cell_type": "markdown",
   "id": "2dda059b",
   "metadata": {},
   "source": [
    "as the class label here are 1 and -1,using numpy.where function we label the predicted values and flatten them to an array\n",
    "\n",
    "and find the accuracy score"
   ]
  },
  {
   "cell_type": "code",
   "execution_count": 16,
   "id": "02222a17",
   "metadata": {},
   "outputs": [
    {
     "data": {
      "text/plain": [
       "0.9533333333333334"
      ]
     },
     "execution_count": 16,
     "metadata": {},
     "output_type": "execute_result"
    }
   ],
   "source": [
    "accuracy_score(y_train,pred1)"
   ]
  },
  {
   "cell_type": "code",
   "execution_count": 17,
   "id": "4ac9ed2f",
   "metadata": {},
   "outputs": [],
   "source": [
    "tl1=save1.history[\"loss\"]\n",
    "cvl1=save1.history[\"val_loss\"]"
   ]
  },
  {
   "cell_type": "code",
   "execution_count": null,
   "id": "f65ff716",
   "metadata": {},
   "outputs": [],
   "source": []
  },
  {
   "cell_type": "code",
   "execution_count": 18,
   "id": "26335a0e",
   "metadata": {},
   "outputs": [
    {
     "data": {
      "text/plain": [
       "[<matplotlib.lines.Line2D at 0x1dcf79a0100>]"
      ]
     },
     "execution_count": 18,
     "metadata": {},
     "output_type": "execute_result"
    },
    {
     "data": {
      "image/png": "[encoded data removed]",
      "text/plain": [
       "<Figure size 432x288 with 1 Axes>"
      ]
     },
     "metadata": {
      "needs_background": "light"
     },
     "output_type": "display_data"
    }
   ],
   "source": [
    "plt.plot(range(1,51),tl1,label=\"training_loss\")\n",
    "plt.plot(range(1,51),cvl1,label=\"crossval_loss\")"
   ]
  },
  {
   "cell_type": "markdown",
   "id": "3439541e",
   "metadata": {},
   "source": [
    "this is plot for training_loss and crossval_loss , there is no much  overfitting issue with this dataset"
   ]
  },
  {
   "cell_type": "code",
   "execution_count": 19,
   "id": "5cf54076",
   "metadata": {},
   "outputs": [
    {
     "name": "stdout",
     "output_type": "stream",
     "text": [
      "3888/3888 [==============================] - 9s 2ms/step\n"
     ]
    },
    {
     "data": {
      "text/plain": [
       "<AxesSubplot:>"
      ]
     },
     "execution_count": 19,
     "metadata": {},
     "output_type": "execute_result"
    },
    {
     "data": {
      "image/png": "[encoded data removed]",
      "text/plain": [
       "<Figure size 432x288 with 1 Axes>"
      ]
     },
     "metadata": {
      "needs_background": "light"
     },
     "output_type": "display_data"
    }
   ],
   "source": [
    "plot_decision_regions(x_train[[0,1]].values,y_train.values.astype(int),clf=model)"
   ]
  },
  {
   "cell_type": "raw",
   "id": "5ceee650",
   "metadata": {},
   "source": [
    "This decision region plot clearly specities the input spaces corresponding to unique output class"
   ]
  },
  {
   "cell_type": "code",
   "execution_count": null,
   "id": "47674d59",
   "metadata": {},
   "outputs": [],
   "source": []
  }
 ],
 "metadata": {
  "kernelspec": {
   "display_name": "Python 3 (ipykernel)",
   "language": "python",
   "name": "python3"
  },
  "language_info": {
   "codemirror_mode": {
    "name": "ipython",
    "version": 3
   },
   "file_extension": ".py",
   "mimetype": "text/x-python",
   "name": "python",
   "nbconvert_exporter": "python",
   "pygments_lexer": "ipython3",
   "version": "3.9.12"
  }
 },
 "nbformat": 4,
 "nbformat_minor": 5
}
