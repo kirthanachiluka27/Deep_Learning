{
 "cells": [
  {
   "cell_type": "markdown",
   "id": "0c8a51af",
   "metadata": {},
   "source": [
    "# Desicion surface based on MLP\n"
   ]
  },
  {
   "cell_type": "markdown",
   "id": "158f386c",
   "metadata": {},
   "source": [
    "# Importing required libraries\n"
   ]
  },
  {
   "cell_type": "code",
   "execution_count": 1,
   "id": "b4fbdf81",
   "metadata": {},
   "outputs": [],
   "source": [
    "import pandas as pd\n",
    "import sklearn\n",
    "from sklearn.model_selection import train_test_split\n",
    "import numpy as np\n",
    "from sklearn.preprocessing import StandardScaler\n",
    "from sklearn.metrics import accuracy_score\n",
    "import seaborn as sns\n",
    "import matplotlib.pyplot as plt\n",
    "import tensorflow\n",
    "from tensorflow import keras\n",
    "from tensorflow.keras import Sequential \n",
    "from tensorflow.keras.layers import Dense, Dropout"
   ]
  },
  {
   "cell_type": "code",
   "execution_count": 99,
   "id": "3750c5e0",
   "metadata": {},
   "outputs": [],
   "source": [
    "data=pd.read_csv(r\"C:\\Users\\DELL\\Desktop\\downloads\\4.linearsep.csv\",header=None)"
   ]
  },
  {
   "cell_type": "code",
   "execution_count": 100,
   "id": "89d3993c",
   "metadata": {},
   "outputs": [
    {
     "data": {
      "text/plain": [
       "1.0    50\n",
       "0.0    50\n",
       "Name: 2, dtype: int64"
      ]
     },
     "execution_count": 100,
     "metadata": {},
     "output_type": "execute_result"
    }
   ],
   "source": [
    "data[2].value_counts()"
   ]
  },
  {
   "cell_type": "code",
   "execution_count": 101,
   "id": "428d1e02",
   "metadata": {},
   "outputs": [
    {
     "data": {
      "text/html": [
       "<div>\n",
       "<style scoped>\n",
       "    .dataframe tbody tr th:only-of-type {\n",
       "        vertical-align: middle;\n",
       "    }\n",
       "\n",
       "    .dataframe tbody tr th {\n",
       "        vertical-align: top;\n",
       "    }\n",
       "\n",
       "    .dataframe thead th {\n",
       "        text-align: right;\n",
       "    }\n",
       "</style>\n",
       "<table border=\"1\" class=\"dataframe\">\n",
       "  <thead>\n",
       "    <tr style=\"text-align: right;\">\n",
       "      <th></th>\n",
       "      <th>0</th>\n",
       "      <th>1</th>\n",
       "      <th>2</th>\n",
       "    </tr>\n",
       "  </thead>\n",
       "  <tbody>\n",
       "    <tr>\n",
       "      <th>0</th>\n",
       "      <td>-0.177497</td>\n",
       "      <td>0.930496</td>\n",
       "      <td>1.0</td>\n",
       "    </tr>\n",
       "    <tr>\n",
       "      <th>1</th>\n",
       "      <td>1.977424</td>\n",
       "      <td>1.766155</td>\n",
       "      <td>0.0</td>\n",
       "    </tr>\n",
       "    <tr>\n",
       "      <th>2</th>\n",
       "      <td>1.800024</td>\n",
       "      <td>1.700343</td>\n",
       "      <td>0.0</td>\n",
       "    </tr>\n",
       "    <tr>\n",
       "      <th>3</th>\n",
       "      <td>-0.770837</td>\n",
       "      <td>2.359163</td>\n",
       "      <td>1.0</td>\n",
       "    </tr>\n",
       "    <tr>\n",
       "      <th>4</th>\n",
       "      <td>-0.308009</td>\n",
       "      <td>1.594063</td>\n",
       "      <td>1.0</td>\n",
       "    </tr>\n",
       "    <tr>\n",
       "      <th>...</th>\n",
       "      <td>...</td>\n",
       "      <td>...</td>\n",
       "      <td>...</td>\n",
       "    </tr>\n",
       "    <tr>\n",
       "      <th>95</th>\n",
       "      <td>2.632382</td>\n",
       "      <td>1.271305</td>\n",
       "      <td>0.0</td>\n",
       "    </tr>\n",
       "    <tr>\n",
       "      <th>96</th>\n",
       "      <td>-0.040256</td>\n",
       "      <td>1.782708</td>\n",
       "      <td>1.0</td>\n",
       "    </tr>\n",
       "    <tr>\n",
       "      <th>97</th>\n",
       "      <td>-0.787453</td>\n",
       "      <td>1.400357</td>\n",
       "      <td>1.0</td>\n",
       "    </tr>\n",
       "    <tr>\n",
       "      <th>98</th>\n",
       "      <td>2.702441</td>\n",
       "      <td>1.587444</td>\n",
       "      <td>0.0</td>\n",
       "    </tr>\n",
       "    <tr>\n",
       "      <th>99</th>\n",
       "      <td>1.290969</td>\n",
       "      <td>2.751937</td>\n",
       "      <td>1.0</td>\n",
       "    </tr>\n",
       "  </tbody>\n",
       "</table>\n",
       "<p>100 rows × 3 columns</p>\n",
       "</div>"
      ],
      "text/plain": [
       "           0         1    2\n",
       "0  -0.177497  0.930496  1.0\n",
       "1   1.977424  1.766155  0.0\n",
       "2   1.800024  1.700343  0.0\n",
       "3  -0.770837  2.359163  1.0\n",
       "4  -0.308009  1.594063  1.0\n",
       "..       ...       ...  ...\n",
       "95  2.632382  1.271305  0.0\n",
       "96 -0.040256  1.782708  1.0\n",
       "97 -0.787453  1.400357  1.0\n",
       "98  2.702441  1.587444  0.0\n",
       "99  1.290969  2.751937  1.0\n",
       "\n",
       "[100 rows x 3 columns]"
      ]
     },
     "execution_count": 101,
     "metadata": {},
     "output_type": "execute_result"
    }
   ],
   "source": [
    "data"
   ]
  },
  {
   "cell_type": "markdown",
   "id": "7659fcb8",
   "metadata": {},
   "source": [
    "This dataset consists of 100 datapoints with three feature variables.\n"
   ]
  },
  {
   "cell_type": "markdown",
   "id": "4924e7ae",
   "metadata": {},
   "source": [
    "# Splitting of dataset"
   ]
  },
  {
   "cell_type": "code",
   "execution_count": 102,
   "id": "1777d857",
   "metadata": {},
   "outputs": [],
   "source": [
    "x_train,x_test,y_train,y_test=train_test_split(data[[0,1]],data[2],test_size=0.1)"
   ]
  },
  {
   "cell_type": "code",
   "execution_count": 103,
   "id": "6785e88d",
   "metadata": {},
   "outputs": [],
   "source": [
    "scaler = StandardScaler()\n"
   ]
  },
  {
   "cell_type": "code",
   "execution_count": 104,
   "id": "7282978f",
   "metadata": {},
   "outputs": [],
   "source": [
    "scalard=scaler.fit_transform(x_train)"
   ]
  },
  {
   "cell_type": "markdown",
   "id": "cc7b695e",
   "metadata": {},
   "source": [
    "# Scatterplot of original dataset"
   ]
  },
  {
   "cell_type": "code",
   "execution_count": 105,
   "id": "f5ef223d",
   "metadata": {},
   "outputs": [
    {
     "name": "stderr",
     "output_type": "stream",
     "text": [
      "C:\\Users\\DELL\\anaconda3\\lib\\site-packages\\seaborn\\_decorators.py:36: FutureWarning: Pass the following variables as keyword args: x, y. From version 0.12, the only valid positional argument will be `data`, and passing other arguments without an explicit keyword will result in an error or misinterpretation.\n",
      "  warnings.warn(\n"
     ]
    },
    {
     "data": {
      "text/plain": [
       "<AxesSubplot:xlabel='0', ylabel='1'>"
      ]
     },
     "execution_count": 105,
     "metadata": {},
     "output_type": "execute_result"
    },
    {
     "data": {
      "image/png": "[encoded data removed]",
      "text/plain": [
       "<Figure size 432x288 with 1 Axes>"
      ]
     },
     "metadata": {
      "needs_background": "light"
     },
     "output_type": "display_data"
    }
   ],
   "source": [
    "sns.scatterplot(data[0],data[1],hue=data[2])"
   ]
  },
  {
   "cell_type": "markdown",
   "id": "9eaa8f12",
   "metadata": {},
   "source": [
    "# Creating hidden layers "
   ]
  },
  {
   "cell_type": "code",
   "execution_count": 106,
   "id": "917ab7af",
   "metadata": {},
   "outputs": [],
   "source": [
    "model = Sequential()\n",
    "model.add(Dense(7,activation='relu',input_dim=2,kernel_initializer=\"he_uniform\"))\n",
    "model.add(Dense(4,activation='tanh',kernel_initializer=\"glorot_uniform\"))\n",
    "model.add(Dense(1,activation='sigmoid'))"
   ]
  },
  {
   "cell_type": "markdown",
   "id": "7f348040",
   "metadata": {},
   "source": [
    "Here I created four dense layers that is nothing but fully connected layers .\n",
    "\n",
    "first_layer ---activation function used is relu which works best with the combination of he_normal/uniform kernel_initializer\n",
    "\n",
    "second_layer---activation function used is tanh which works best with the combination of glorot_normal/uniform kernel_initializer\n",
    "\n",
    "\n",
    "the final layer should be sigmoid activation function as it is dealing with binary classification only one output is required"
   ]
  },
  {
   "cell_type": "code",
   "execution_count": 107,
   "id": "ec67db91",
   "metadata": {},
   "outputs": [
    {
     "name": "stdout",
     "output_type": "stream",
     "text": [
      "Model: \"sequential_8\"\n",
      "_________________________________________________________________\n",
      " Layer (type)                Output Shape              Param #   \n",
      "=================================================================\n",
      " dense_24 (Dense)            (None, 7)                 21        \n",
      "                                                                 \n",
      " dense_25 (Dense)            (None, 4)                 32        \n",
      "                                                                 \n",
      " dense_26 (Dense)            (None, 1)                 5         \n",
      "                                                                 \n",
      "=================================================================\n",
      "Total params: 58\n",
      "Trainable params: 58\n",
      "Non-trainable params: 0\n",
      "_________________________________________________________________\n"
     ]
    }
   ],
   "source": [
    "model.summary()"
   ]
  },
  {
   "cell_type": "markdown",
   "id": "89edc3ac",
   "metadata": {},
   "source": [
    "# Compiling "
   ]
  },
  {
   "cell_type": "code",
   "execution_count": 108,
   "id": "49b5f523",
   "metadata": {},
   "outputs": [],
   "source": [
    "model.compile(optimizer=\"Adam\",loss=\"binary_crossentropy\",metrics=[\"accuracy\"])"
   ]
  },
  {
   "cell_type": "markdown",
   "id": "d253f9bc",
   "metadata": {},
   "source": [
    "compiling we get to know the loss fuction and optimal weight by optimizer accuracy by metrics\n",
    "\n",
    "optimizer which is widely used is \"adam\" \n",
    "\n",
    "as it is two class classification we use binary_crossentropy as loss function "
   ]
  },
  {
   "cell_type": "markdown",
   "id": "ea38cf47",
   "metadata": {},
   "source": [
    "# Training"
   ]
  },
  {
   "cell_type": "code",
   "execution_count": 109,
   "id": "6aa8c398",
   "metadata": {},
   "outputs": [
    {
     "name": "stdout",
     "output_type": "stream",
     "text": [
      "Epoch 1/20\n",
      "8/8 [==============================] - 2s 59ms/step - loss: 0.5114 - accuracy: 0.9306 - val_loss: 0.4820 - val_accuracy: 0.8889\n",
      "Epoch 2/20\n",
      "8/8 [==============================] - 0s 12ms/step - loss: 0.4929 - accuracy: 0.9306 - val_loss: 0.4659 - val_accuracy: 0.9444\n",
      "Epoch 3/20\n",
      "8/8 [==============================] - 0s 12ms/step - loss: 0.4764 - accuracy: 0.9306 - val_loss: 0.4506 - val_accuracy: 0.9444\n",
      "Epoch 4/20\n",
      "8/8 [==============================] - 0s 11ms/step - loss: 0.4604 - accuracy: 0.9306 - val_loss: 0.4348 - val_accuracy: 0.9444\n",
      "Epoch 5/20\n",
      "8/8 [==============================] - 0s 11ms/step - loss: 0.4455 - accuracy: 0.9306 - val_loss: 0.4206 - val_accuracy: 0.9444\n",
      "Epoch 6/20\n",
      "8/8 [==============================] - 0s 11ms/step - loss: 0.4307 - accuracy: 0.9306 - val_loss: 0.4070 - val_accuracy: 0.9444\n",
      "Epoch 7/20\n",
      "8/8 [==============================] - 0s 11ms/step - loss: 0.4180 - accuracy: 0.9306 - val_loss: 0.3966 - val_accuracy: 0.9444\n",
      "Epoch 8/20\n",
      "8/8 [==============================] - 0s 13ms/step - loss: 0.4069 - accuracy: 0.9306 - val_loss: 0.3879 - val_accuracy: 0.9444\n",
      "Epoch 9/20\n",
      "8/8 [==============================] - 0s 11ms/step - loss: 0.3970 - accuracy: 0.9306 - val_loss: 0.3793 - val_accuracy: 0.9444\n",
      "Epoch 10/20\n",
      "8/8 [==============================] - 0s 13ms/step - loss: 0.3873 - accuracy: 0.9306 - val_loss: 0.3715 - val_accuracy: 0.9444\n",
      "Epoch 11/20\n",
      "8/8 [==============================] - 0s 11ms/step - loss: 0.3781 - accuracy: 0.9306 - val_loss: 0.3647 - val_accuracy: 0.9444\n",
      "Epoch 12/20\n",
      "8/8 [==============================] - 0s 11ms/step - loss: 0.3702 - accuracy: 0.9306 - val_loss: 0.3581 - val_accuracy: 0.9444\n",
      "Epoch 13/20\n",
      "8/8 [==============================] - 0s 10ms/step - loss: 0.3623 - accuracy: 0.9444 - val_loss: 0.3531 - val_accuracy: 0.9444\n",
      "Epoch 14/20\n",
      "8/8 [==============================] - 0s 13ms/step - loss: 0.3558 - accuracy: 0.9444 - val_loss: 0.3473 - val_accuracy: 0.9444\n",
      "Epoch 15/20\n",
      "8/8 [==============================] - 0s 12ms/step - loss: 0.3495 - accuracy: 0.9306 - val_loss: 0.3418 - val_accuracy: 0.9444\n",
      "Epoch 16/20\n",
      "8/8 [==============================] - 0s 11ms/step - loss: 0.3426 - accuracy: 0.9306 - val_loss: 0.3366 - val_accuracy: 0.9444\n",
      "Epoch 17/20\n",
      "8/8 [==============================] - 0s 13ms/step - loss: 0.3363 - accuracy: 0.9306 - val_loss: 0.3320 - val_accuracy: 0.9444\n",
      "Epoch 18/20\n",
      "8/8 [==============================] - 0s 10ms/step - loss: 0.3306 - accuracy: 0.9306 - val_loss: 0.3273 - val_accuracy: 0.9444\n",
      "Epoch 19/20\n",
      "8/8 [==============================] - 0s 12ms/step - loss: 0.3252 - accuracy: 0.9583 - val_loss: 0.3227 - val_accuracy: 0.9444\n",
      "Epoch 20/20\n",
      "8/8 [==============================] - 0s 12ms/step - loss: 0.3194 - accuracy: 0.9444 - val_loss: 0.3183 - val_accuracy: 0.9444\n"
     ]
    }
   ],
   "source": [
    "save=model.fit(x_train,y_train,batch_size=10,epochs=20,verbose=1,validation_split=0.2)"
   ]
  },
  {
   "cell_type": "markdown",
   "id": "35882891",
   "metadata": {},
   "source": [
    "for training we use training set\n",
    "\n",
    "when we give batchsize internally is is using mini_batch SGD \n",
    "\n",
    "epochs used are 20 , it gives loss function for every epoch \n",
    "\n",
    "1 epoch is equal to all the datapoints once finish iteration \n",
    "\n",
    "here total 100 datapoints batch_size is 10 that means 10 batchs , that is if 10 batche sfinish their iteration once \n",
    "\n",
    "it is 1 epoch and 1 loss function"
   ]
  },
  {
   "cell_type": "code",
   "execution_count": 110,
   "id": "5e4e6258",
   "metadata": {},
   "outputs": [],
   "source": [
    "tl1=save.history[\"loss\"]\n",
    "cvl1=save.history[\"val_loss\"]"
   ]
  },
  {
   "cell_type": "code",
   "execution_count": 111,
   "id": "698e9206",
   "metadata": {},
   "outputs": [
    {
     "data": {
      "text/plain": [
       "[<matplotlib.lines.Line2D at 0x198bd096fd0>]"
      ]
     },
     "execution_count": 111,
     "metadata": {},
     "output_type": "execute_result"
    },
    {
     "data": {
      "image/png": "[encoded data removed]",
      "text/plain": [
       "<Figure size 432x288 with 1 Axes>"
      ]
     },
     "metadata": {
      "needs_background": "light"
     },
     "output_type": "display_data"
    }
   ],
   "source": [
    "plt.plot(range(1,21),tl1,label=\"training_loss\")\n",
    "plt.plot(range(1,21),cvl1,label=\"crossval_loss\")"
   ]
  },
  {
   "cell_type": "markdown",
   "id": "85f53100",
   "metadata": {},
   "source": [
    "this is plot for training_loss and crossval_loss , there is a little   overfitting issue with this dataset"
   ]
  },
  {
   "cell_type": "code",
   "execution_count": 112,
   "id": "7be28b94",
   "metadata": {},
   "outputs": [
    {
     "name": "stdout",
     "output_type": "stream",
     "text": [
      "3/3 [==============================] - 0s 11ms/step\n"
     ]
    }
   ],
   "source": [
    "pred=model.predict(x_train)"
   ]
  },
  {
   "cell_type": "markdown",
   "id": "bb2ad588",
   "metadata": {},
   "source": [
    "for predicting the model accuracy we pass x_train set and predict the model"
   ]
  },
  {
   "cell_type": "code",
   "execution_count": 113,
   "id": "060ae21c",
   "metadata": {},
   "outputs": [],
   "source": [
    "predi1=np.where(pred>0.5,1,0).flatten()"
   ]
  },
  {
   "cell_type": "markdown",
   "id": "79cec312",
   "metadata": {},
   "source": [
    "as the class label here are 1 and 0,using numpy.where function we label the predicted values and flatten them to an array\n",
    "\n",
    "and find the accuracy score"
   ]
  },
  {
   "cell_type": "code",
   "execution_count": 114,
   "id": "1fcda269",
   "metadata": {},
   "outputs": [
    {
     "data": {
      "text/plain": [
       "0.9444444444444444"
      ]
     },
     "execution_count": 114,
     "metadata": {},
     "output_type": "execute_result"
    }
   ],
   "source": [
    "accuracy_score(y_train,predi1)"
   ]
  },
  {
   "cell_type": "markdown",
   "id": "8e5853fc",
   "metadata": {},
   "source": [
    "# Decision surface "
   ]
  },
  {
   "cell_type": "code",
   "execution_count": 115,
   "id": "e724ca87",
   "metadata": {},
   "outputs": [],
   "source": [
    "from mlxtend.plotting import plot_decision_regions"
   ]
  },
  {
   "cell_type": "code",
   "execution_count": 116,
   "id": "fe9228c8",
   "metadata": {},
   "outputs": [
    {
     "name": "stdout",
     "output_type": "stream",
     "text": [
      "3888/3888 [==============================] - 10s 3ms/step\n"
     ]
    },
    {
     "data": {
      "text/plain": [
       "<AxesSubplot:>"
      ]
     },
     "execution_count": 116,
     "metadata": {},
     "output_type": "execute_result"
    },
    {
     "data": {
      "image/png": "[encoded data removed]",
      "text/plain": [
       "<Figure size 432x288 with 1 Axes>"
      ]
     },
     "metadata": {
      "needs_background": "light"
     },
     "output_type": "display_data"
    }
   ],
   "source": [
    "plot_decision_regions(x_train[[0,1]].values,y_train.values.astype(int),clf=model)"
   ]
  },
  {
   "cell_type": "code",
   "execution_count": null,
   "id": "928d0a5c",
   "metadata": {},
   "outputs": [],
   "source": []
  }
 ],
 "metadata": {
  "kernelspec": {
   "display_name": "Python 3 (ipykernel)",
   "language": "python",
   "name": "python3"
  },
  "language_info": {
   "codemirror_mode": {
    "name": "ipython",
    "version": 3
   },
   "file_extension": ".py",
   "mimetype": "text/x-python",
   "name": "python",
   "nbconvert_exporter": "python",
   "pygments_lexer": "ipython3",
   "version": "3.9.12"
  }
 },
 "nbformat": 4,
 "nbformat_minor": 5
}
