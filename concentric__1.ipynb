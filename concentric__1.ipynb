{
 "cells": [
  {
   "cell_type": "markdown",
   "id": "7f0fec3b",
   "metadata": {},
   "source": [
    "# Desicion surface based on MLP\n"
   ]
  },
  {
   "cell_type": "code",
   "execution_count": 2,
   "id": "ac79b068",
   "metadata": {},
   "outputs": [],
   "source": [
    "import pandas as pd\n",
    "from sklearn.model_selection import train_test_split\n",
    "import numpy as np\n",
    "import sklearn\n",
    "from sklearn.preprocessing import StandardScaler\n",
    "\n",
    "from sklearn.metrics import accuracy_score\n",
    "import seaborn as sns\n",
    "import matplotlib.pyplot as plt\n",
    "import tensorflow\n",
    "from tensorflow import keras\n",
    "from tensorflow.keras import Sequential \n",
    "from tensorflow.keras.layers import Dense, Dropout"
   ]
  },
  {
   "cell_type": "code",
   "execution_count": 51,
   "id": "baeb694e",
   "metadata": {},
   "outputs": [],
   "source": [
    "data=pd.read_csv(r\"C:\\Users\\DELL\\Desktop\\downloads\\2.concerticcir1.csv\",header=None)"
   ]
  },
  {
   "cell_type": "code",
   "execution_count": 52,
   "id": "ea111127",
   "metadata": {},
   "outputs": [
    {
     "data": {
      "text/html": [
       "<div>\n",
       "<style scoped>\n",
       "    .dataframe tbody tr th:only-of-type {\n",
       "        vertical-align: middle;\n",
       "    }\n",
       "\n",
       "    .dataframe tbody tr th {\n",
       "        vertical-align: top;\n",
       "    }\n",
       "\n",
       "    .dataframe thead th {\n",
       "        text-align: right;\n",
       "    }\n",
       "</style>\n",
       "<table border=\"1\" class=\"dataframe\">\n",
       "  <thead>\n",
       "    <tr style=\"text-align: right;\">\n",
       "      <th></th>\n",
       "      <th>0</th>\n",
       "      <th>1</th>\n",
       "      <th>2</th>\n",
       "    </tr>\n",
       "  </thead>\n",
       "  <tbody>\n",
       "    <tr>\n",
       "      <th>0</th>\n",
       "      <td>-0.383</td>\n",
       "      <td>-0.0908</td>\n",
       "      <td>1.0</td>\n",
       "    </tr>\n",
       "    <tr>\n",
       "      <th>1</th>\n",
       "      <td>-0.021</td>\n",
       "      <td>-0.4780</td>\n",
       "      <td>1.0</td>\n",
       "    </tr>\n",
       "    <tr>\n",
       "      <th>2</th>\n",
       "      <td>-0.396</td>\n",
       "      <td>-1.2900</td>\n",
       "      <td>0.0</td>\n",
       "    </tr>\n",
       "    <tr>\n",
       "      <th>3</th>\n",
       "      <td>-0.618</td>\n",
       "      <td>-0.0638</td>\n",
       "      <td>1.0</td>\n",
       "    </tr>\n",
       "    <tr>\n",
       "      <th>4</th>\n",
       "      <td>0.703</td>\n",
       "      <td>-0.1870</td>\n",
       "      <td>1.0</td>\n",
       "    </tr>\n",
       "    <tr>\n",
       "      <th>...</th>\n",
       "      <td>...</td>\n",
       "      <td>...</td>\n",
       "      <td>...</td>\n",
       "    </tr>\n",
       "    <tr>\n",
       "      <th>95</th>\n",
       "      <td>-0.475</td>\n",
       "      <td>-0.2250</td>\n",
       "      <td>1.0</td>\n",
       "    </tr>\n",
       "    <tr>\n",
       "      <th>96</th>\n",
       "      <td>0.126</td>\n",
       "      <td>0.8700</td>\n",
       "      <td>0.0</td>\n",
       "    </tr>\n",
       "    <tr>\n",
       "      <th>97</th>\n",
       "      <td>-0.647</td>\n",
       "      <td>-0.3630</td>\n",
       "      <td>1.0</td>\n",
       "    </tr>\n",
       "    <tr>\n",
       "      <th>98</th>\n",
       "      <td>0.474</td>\n",
       "      <td>1.0100</td>\n",
       "      <td>0.0</td>\n",
       "    </tr>\n",
       "    <tr>\n",
       "      <th>99</th>\n",
       "      <td>-0.386</td>\n",
       "      <td>-0.8100</td>\n",
       "      <td>0.0</td>\n",
       "    </tr>\n",
       "  </tbody>\n",
       "</table>\n",
       "<p>100 rows × 3 columns</p>\n",
       "</div>"
      ],
      "text/plain": [
       "        0       1    2\n",
       "0  -0.383 -0.0908  1.0\n",
       "1  -0.021 -0.4780  1.0\n",
       "2  -0.396 -1.2900  0.0\n",
       "3  -0.618 -0.0638  1.0\n",
       "4   0.703 -0.1870  1.0\n",
       "..    ...     ...  ...\n",
       "95 -0.475 -0.2250  1.0\n",
       "96  0.126  0.8700  0.0\n",
       "97 -0.647 -0.3630  1.0\n",
       "98  0.474  1.0100  0.0\n",
       "99 -0.386 -0.8100  0.0\n",
       "\n",
       "[100 rows x 3 columns]"
      ]
     },
     "execution_count": 52,
     "metadata": {},
     "output_type": "execute_result"
    }
   ],
   "source": [
    "data"
   ]
  },
  {
   "cell_type": "markdown",
   "id": "e7979ac2",
   "metadata": {},
   "source": [
    "The data[2] is the class lable and has two unique values"
   ]
  },
  {
   "cell_type": "code",
   "execution_count": 53,
   "id": "cc87eb4e",
   "metadata": {},
   "outputs": [
    {
     "data": {
      "text/plain": [
       "1.0    50\n",
       "0.0    50\n",
       "Name: 2, dtype: int64"
      ]
     },
     "execution_count": 53,
     "metadata": {},
     "output_type": "execute_result"
    }
   ],
   "source": [
    "data[2].value_counts()"
   ]
  },
  {
   "cell_type": "markdown",
   "id": "47ffecb1",
   "metadata": {},
   "source": [
    "# Scatterplot of original dataset"
   ]
  },
  {
   "cell_type": "code",
   "execution_count": 54,
   "id": "e6555d2d",
   "metadata": {},
   "outputs": [],
   "source": [
    "x_train,x_test,y_train,y_test=train_test_split(data[[0,1]],data[2],test_size=0.1)"
   ]
  },
  {
   "cell_type": "code",
   "execution_count": 55,
   "id": "bdd9f48f",
   "metadata": {},
   "outputs": [],
   "source": [
    "scaler = StandardScaler()\n"
   ]
  },
  {
   "cell_type": "code",
   "execution_count": 56,
   "id": "4469d69c",
   "metadata": {},
   "outputs": [],
   "source": [
    "X_train_trf = scaler.fit_transform(x_train)\n",
    "X_test_trf = scaler.transform(x_test)"
   ]
  },
  {
   "cell_type": "code",
   "execution_count": 57,
   "id": "0ea2cf93",
   "metadata": {},
   "outputs": [
    {
     "name": "stderr",
     "output_type": "stream",
     "text": [
      "C:\\Users\\DELL\\anaconda3\\lib\\site-packages\\seaborn\\_decorators.py:36: FutureWarning: Pass the following variables as keyword args: x, y. From version 0.12, the only valid positional argument will be `data`, and passing other arguments without an explicit keyword will result in an error or misinterpretation.\n",
      "  warnings.warn(\n"
     ]
    },
    {
     "data": {
      "text/plain": [
       "<AxesSubplot:xlabel='0', ylabel='1'>"
      ]
     },
     "execution_count": 57,
     "metadata": {},
     "output_type": "execute_result"
    },
    {
     "data": {
      "image/png": "[encoded data removed]",
      "text/plain": [
       "<Figure size 432x288 with 1 Axes>"
      ]
     },
     "metadata": {
      "needs_background": "light"
     },
     "output_type": "display_data"
    }
   ],
   "source": [
    "sns.scatterplot(data[0],data[1],hue=data[2])"
   ]
  },
  {
   "cell_type": "markdown",
   "id": "190ef3cd",
   "metadata": {},
   "source": [
    "# Creating hidden layers "
   ]
  },
  {
   "cell_type": "code",
   "execution_count": 58,
   "id": "4631128f",
   "metadata": {},
   "outputs": [],
   "source": [
    "model = Sequential()\n",
    "#this is a sequential data so initialising sequential is the first step\n",
    "\n",
    "model.add(Dense(3,activation='sigmoid',input_dim=2,kernel_initializer=\"glorot_uniform\"))\n",
    "#to the sequential data we are making a dense layer with activation fiunction, input_dim is the dimension of dataset\n",
    "# kernel_initialiser you can use based on your activation function\n",
    "model.add(Dense(2,activation='sigmoid',kernel_initializer=\"glorot_uniform\"))\n",
    "model.add(Dense(1,activation='sigmoid',kernel_initializer=\"glorot_uniform\"))"
   ]
  },
  {
   "cell_type": "markdown",
   "id": "5b1a6f66",
   "metadata": {},
   "source": [
    "Here I created four dense layers that is nothing but fully connected layers .\n",
    "\n",
    "activation function used is relu which works best with the combination of he_normal/unoform kernel_initializer\n",
    "\n",
    "the final layer should be sigmoid activation function as it is dealing with binary classification only one output is required"
   ]
  },
  {
   "cell_type": "code",
   "execution_count": 59,
   "id": "251b99fe",
   "metadata": {},
   "outputs": [
    {
     "name": "stdout",
     "output_type": "stream",
     "text": [
      "Model: \"sequential_3\"\n",
      "_________________________________________________________________\n",
      " Layer (type)                Output Shape              Param #   \n",
      "=================================================================\n",
      " dense_9 (Dense)             (None, 3)                 9         \n",
      "                                                                 \n",
      " dense_10 (Dense)            (None, 2)                 8         \n",
      "                                                                 \n",
      " dense_11 (Dense)            (None, 1)                 3         \n",
      "                                                                 \n",
      "=================================================================\n",
      "Total params: 20\n",
      "Trainable params: 20\n",
      "Non-trainable params: 0\n",
      "_________________________________________________________________\n"
     ]
    }
   ],
   "source": [
    "model.summary()"
   ]
  },
  {
   "cell_type": "markdown",
   "id": "598934fa",
   "metadata": {},
   "source": [
    "Summary describes total layers \n",
    "\n",
    "Total trainable parameters\n",
    "\n",
    "remembering one most importnt thing is every neuron has a bias \n",
    "\n"
   ]
  },
  {
   "cell_type": "markdown",
   "id": "023fddec",
   "metadata": {},
   "source": [
    "# Compiling"
   ]
  },
  {
   "cell_type": "code",
   "execution_count": 60,
   "id": "83ade164",
   "metadata": {},
   "outputs": [],
   "source": [
    "model.compile(optimizer=\"Adam\",loss=\"binary_crossentropy\")"
   ]
  },
  {
   "cell_type": "markdown",
   "id": "e0d8a9c3",
   "metadata": {},
   "source": [
    "compiling we get to know the loss fuction and optimal weight by optimizer accuracy by metrics\n",
    "\n",
    "optimizer which is widely used is \"adam\" \n",
    "\n",
    "as it is two class classification we use binary_crossentropy as loss function "
   ]
  },
  {
   "cell_type": "markdown",
   "id": "3e078ba0",
   "metadata": {},
   "source": [
    "# Training\n"
   ]
  },
  {
   "cell_type": "code",
   "execution_count": 61,
   "id": "f54ff99c",
   "metadata": {},
   "outputs": [
    {
     "name": "stdout",
     "output_type": "stream",
     "text": [
      "Epoch 1/20\n",
      "8/8 [==============================] - 2s 54ms/step - loss: 0.7892 - val_loss: 0.6345\n",
      "Epoch 2/20\n",
      "8/8 [==============================] - 0s 14ms/step - loss: 0.7859 - val_loss: 0.6345\n",
      "Epoch 3/20\n",
      "8/8 [==============================] - 0s 11ms/step - loss: 0.7827 - val_loss: 0.6344\n",
      "Epoch 4/20\n",
      "8/8 [==============================] - 0s 12ms/step - loss: 0.7789 - val_loss: 0.6344\n",
      "Epoch 5/20\n",
      "8/8 [==============================] - 0s 11ms/step - loss: 0.7750 - val_loss: 0.6345\n",
      "Epoch 6/20\n",
      "8/8 [==============================] - 0s 21ms/step - loss: 0.7723 - val_loss: 0.6347\n",
      "Epoch 7/20\n",
      "8/8 [==============================] - 0s 11ms/step - loss: 0.7687 - val_loss: 0.6348\n",
      "Epoch 8/20\n",
      "8/8 [==============================] - 0s 11ms/step - loss: 0.7658 - val_loss: 0.6351\n",
      "Epoch 9/20\n",
      "8/8 [==============================] - 0s 11ms/step - loss: 0.7632 - val_loss: 0.6354\n",
      "Epoch 10/20\n",
      "8/8 [==============================] - 0s 11ms/step - loss: 0.7602 - val_loss: 0.6358\n",
      "Epoch 11/20\n",
      "8/8 [==============================] - 0s 11ms/step - loss: 0.7575 - val_loss: 0.6361\n",
      "Epoch 12/20\n",
      "8/8 [==============================] - 0s 13ms/step - loss: 0.7548 - val_loss: 0.6366\n",
      "Epoch 13/20\n",
      "8/8 [==============================] - 0s 11ms/step - loss: 0.7522 - val_loss: 0.6371\n",
      "Epoch 14/20\n",
      "8/8 [==============================] - 0s 11ms/step - loss: 0.7497 - val_loss: 0.6376\n",
      "Epoch 15/20\n",
      "8/8 [==============================] - 0s 12ms/step - loss: 0.7473 - val_loss: 0.6381\n",
      "Epoch 16/20\n",
      "8/8 [==============================] - 0s 10ms/step - loss: 0.7451 - val_loss: 0.6388\n",
      "Epoch 17/20\n",
      "8/8 [==============================] - 0s 11ms/step - loss: 0.7430 - val_loss: 0.6394\n",
      "Epoch 18/20\n",
      "8/8 [==============================] - 0s 15ms/step - loss: 0.7404 - val_loss: 0.6400\n",
      "Epoch 19/20\n",
      "8/8 [==============================] - 0s 12ms/step - loss: 0.7388 - val_loss: 0.6408\n",
      "Epoch 20/20\n",
      "8/8 [==============================] - 0s 11ms/step - loss: 0.7366 - val_loss: 0.6415\n"
     ]
    }
   ],
   "source": [
    "tr=model.fit(x_train,y_train,batch_size=10,epochs=20,verbose=1,validation_split=0.2)"
   ]
  },
  {
   "cell_type": "markdown",
   "id": "64013325",
   "metadata": {},
   "source": [
    "for training we use training set\n",
    "\n",
    "when we give batchsize internally is is using mini_batch SGD \n",
    "\n",
    "epochs used are 20 , it gives loss function for every epoch \n",
    "\n",
    "1 epoch is equal to all the datapoints once finish iteration \n",
    "\n",
    "here total 100 datapoints batch_size is 10 that means 10 batchs , that is if 10 batchs finish their iteration once \n",
    "\n",
    "it is 1 epoch and 1 loss function"
   ]
  },
  {
   "cell_type": "code",
   "execution_count": 62,
   "id": "7c5a35a0",
   "metadata": {},
   "outputs": [
    {
     "name": "stdout",
     "output_type": "stream",
     "text": [
      "3/3 [==============================] - 0s 6ms/step\n"
     ]
    }
   ],
   "source": [
    "pred=model.predict(x_train)"
   ]
  },
  {
   "cell_type": "markdown",
   "id": "b1989958",
   "metadata": {},
   "source": [
    "for predicting the model accuracy we pass x_train set and predict the model"
   ]
  },
  {
   "cell_type": "code",
   "execution_count": 63,
   "id": "7c74f417",
   "metadata": {},
   "outputs": [],
   "source": [
    "predi=np.where(pred>0.5,1,0).flatten()"
   ]
  },
  {
   "cell_type": "markdown",
   "id": "d4383585",
   "metadata": {},
   "source": [
    "as the class label here are 1 and 0,using numpy.where function we label the predicted values and flatten them to an array\n",
    "\n",
    "and find the accuracy score"
   ]
  },
  {
   "cell_type": "code",
   "execution_count": 64,
   "id": "31702809",
   "metadata": {},
   "outputs": [
    {
     "data": {
      "text/plain": [
       "0.5"
      ]
     },
     "execution_count": 64,
     "metadata": {},
     "output_type": "execute_result"
    }
   ],
   "source": [
    "accuracy_score(y_train,predi)"
   ]
  },
  {
   "cell_type": "code",
   "execution_count": 25,
   "id": "15803050",
   "metadata": {},
   "outputs": [],
   "source": [
    "tl=tr.history[\"loss\"]\n",
    "cvl=tr.history[\"val_loss\"]"
   ]
  },
  {
   "cell_type": "code",
   "execution_count": 26,
   "id": "e7e27748",
   "metadata": {},
   "outputs": [
    {
     "data": {
      "text/plain": [
       "[<matplotlib.lines.Line2D at 0x1a7ac59c7f0>]"
      ]
     },
     "execution_count": 26,
     "metadata": {},
     "output_type": "execute_result"
    },
    {
     "data": {
      "image/png": "[encoded data removed]",
      "text/plain": [
       "<Figure size 432x288 with 1 Axes>"
      ]
     },
     "metadata": {
      "needs_background": "light"
     },
     "output_type": "display_data"
    }
   ],
   "source": [
    "plt.plot(range(1,21),tl,label=\"training_loss\")\n",
    "plt.plot(range(1,21),cvl,label=\"crossval_loss\")"
   ]
  },
  {
   "cell_type": "code",
   "execution_count": 27,
   "id": "a1777a55",
   "metadata": {},
   "outputs": [],
   "source": [
    "from mlxtend.plotting import plot_decision_regions"
   ]
  },
  {
   "cell_type": "code",
   "execution_count": 28,
   "id": "7ed9fc8a",
   "metadata": {},
   "outputs": [
    {
     "name": "stdout",
     "output_type": "stream",
     "text": [
      "3888/3888 [==============================] - 8s 2ms/step\n"
     ]
    },
    {
     "data": {
      "text/plain": [
       "<AxesSubplot:>"
      ]
     },
     "execution_count": 28,
     "metadata": {},
     "output_type": "execute_result"
    },
    {
     "data": {
      "image/png": "[encoded data removed]",
      "text/plain": [
       "<Figure size 432x288 with 1 Axes>"
      ]
     },
     "metadata": {
      "needs_background": "light"
     },
     "output_type": "display_data"
    }
   ],
   "source": [
    "plot_decision_regions(x_train[[0,1]].values,y_train.values.astype(int),clf=model)"
   ]
  },
  {
   "cell_type": "code",
   "execution_count": 29,
   "id": "1a504dcb",
   "metadata": {},
   "outputs": [],
   "source": [
    "model1 = Sequential()\n",
    "model1.add(Dense(3,activation='relu',input_dim=2,kernel_initializer=\"he_normal\"))\n",
    "model1.add(Dense(2,activation='relu',kernel_initializer=\"he_normal\"))\n",
    "model1.add(Dense(1,activation='sigmoid'))"
   ]
  },
  {
   "cell_type": "code",
   "execution_count": 30,
   "id": "c837a984",
   "metadata": {},
   "outputs": [
    {
     "name": "stdout",
     "output_type": "stream",
     "text": [
      "Model: \"sequential_1\"\n",
      "_________________________________________________________________\n",
      " Layer (type)                Output Shape              Param #   \n",
      "=================================================================\n",
      " dense_3 (Dense)             (None, 3)                 9         \n",
      "                                                                 \n",
      " dense_4 (Dense)             (None, 2)                 8         \n",
      "                                                                 \n",
      " dense_5 (Dense)             (None, 1)                 3         \n",
      "                                                                 \n",
      "=================================================================\n",
      "Total params: 20\n",
      "Trainable params: 20\n",
      "Non-trainable params: 0\n",
      "_________________________________________________________________\n"
     ]
    }
   ],
   "source": [
    "model1.summary()"
   ]
  },
  {
   "cell_type": "code",
   "execution_count": 31,
   "id": "171e946c",
   "metadata": {},
   "outputs": [],
   "source": [
    "model1.compile(optimizer=\"Adam\",loss=\"binary_crossentropy\")"
   ]
  },
  {
   "cell_type": "code",
   "execution_count": 32,
   "id": "3dab0a79",
   "metadata": {},
   "outputs": [
    {
     "name": "stdout",
     "output_type": "stream",
     "text": [
      "Epoch 1/20\n",
      "8/8 [==============================] - 2s 54ms/step - loss: 0.7566 - val_loss: 1.0065\n",
      "Epoch 2/20\n",
      "8/8 [==============================] - 0s 19ms/step - loss: 0.7530 - val_loss: 0.9962\n",
      "Epoch 3/20\n",
      "8/8 [==============================] - 0s 17ms/step - loss: 0.7498 - val_loss: 0.9873\n",
      "Epoch 4/20\n",
      "8/8 [==============================] - 0s 17ms/step - loss: 0.7476 - val_loss: 0.9793\n",
      "Epoch 5/20\n",
      "8/8 [==============================] - 0s 14ms/step - loss: 0.7449 - val_loss: 0.9726\n",
      "Epoch 6/20\n",
      "8/8 [==============================] - 0s 11ms/step - loss: 0.7427 - val_loss: 0.9645\n",
      "Epoch 7/20\n",
      "8/8 [==============================] - 0s 11ms/step - loss: 0.7405 - val_loss: 0.9570\n",
      "Epoch 8/20\n",
      "8/8 [==============================] - 0s 11ms/step - loss: 0.7379 - val_loss: 0.9511\n",
      "Epoch 9/20\n",
      "8/8 [==============================] - 0s 13ms/step - loss: 0.7362 - val_loss: 0.9448\n",
      "Epoch 10/20\n",
      "8/8 [==============================] - 0s 11ms/step - loss: 0.7341 - val_loss: 0.9399\n",
      "Epoch 11/20\n",
      "8/8 [==============================] - 0s 12ms/step - loss: 0.7320 - val_loss: 0.9321\n",
      "Epoch 12/20\n",
      "8/8 [==============================] - 0s 16ms/step - loss: 0.7298 - val_loss: 0.9237\n",
      "Epoch 13/20\n",
      "8/8 [==============================] - 0s 11ms/step - loss: 0.7281 - val_loss: 0.9170\n",
      "Epoch 14/20\n",
      "8/8 [==============================] - 0s 11ms/step - loss: 0.7256 - val_loss: 0.9120\n",
      "Epoch 15/20\n",
      "8/8 [==============================] - 0s 11ms/step - loss: 0.7235 - val_loss: 0.9062\n",
      "Epoch 16/20\n",
      "8/8 [==============================] - 0s 11ms/step - loss: 0.7219 - val_loss: 0.9004\n",
      "Epoch 17/20\n",
      "8/8 [==============================] - 0s 11ms/step - loss: 0.7200 - val_loss: 0.8942\n",
      "Epoch 18/20\n",
      "8/8 [==============================] - 0s 11ms/step - loss: 0.7185 - val_loss: 0.8885\n",
      "Epoch 19/20\n",
      "8/8 [==============================] - 0s 11ms/step - loss: 0.7171 - val_loss: 0.8846\n",
      "Epoch 20/20\n",
      "8/8 [==============================] - 0s 11ms/step - loss: 0.7158 - val_loss: 0.8792\n"
     ]
    }
   ],
   "source": [
    "save1=model1.fit(x_train,y_train,batch_size=10,epochs=20,verbose=1,validation_split=0.2)"
   ]
  },
  {
   "cell_type": "code",
   "execution_count": 33,
   "id": "b15d878d",
   "metadata": {},
   "outputs": [],
   "source": [
    "tl1=save1.history[\"loss\"]\n",
    "cvl1=save1.history[\"val_loss\"]"
   ]
  },
  {
   "cell_type": "code",
   "execution_count": 34,
   "id": "0de86ced",
   "metadata": {},
   "outputs": [
    {
     "data": {
      "text/plain": [
       "[<matplotlib.lines.Line2D at 0x1a7acbfae80>]"
      ]
     },
     "execution_count": 34,
     "metadata": {},
     "output_type": "execute_result"
    },
    {
     "data": {
      "image/png": "[encoded data removed]",
      "text/plain": [
       "<Figure size 432x288 with 1 Axes>"
      ]
     },
     "metadata": {
      "needs_background": "light"
     },
     "output_type": "display_data"
    }
   ],
   "source": [
    "plt.plot(range(1,21),tl1,label=\"training_loss\")\n",
    "plt.plot(range(1,21),cvl1,label=\"crossval_loss\")"
   ]
  },
  {
   "cell_type": "code",
   "execution_count": 35,
   "id": "4d43ea83",
   "metadata": {},
   "outputs": [
    {
     "name": "stdout",
     "output_type": "stream",
     "text": [
      "3/3 [==============================] - 0s 5ms/step\n"
     ]
    }
   ],
   "source": [
    "pred1=model1.predict(x_train)"
   ]
  },
  {
   "cell_type": "code",
   "execution_count": 36,
   "id": "1b1ec419",
   "metadata": {},
   "outputs": [],
   "source": [
    "predi1=np.where(pred1>0.5,1,0).flatten()"
   ]
  },
  {
   "cell_type": "code",
   "execution_count": 37,
   "id": "e05661d2",
   "metadata": {},
   "outputs": [
    {
     "data": {
      "text/plain": [
       "0.4666666666666667"
      ]
     },
     "execution_count": 37,
     "metadata": {},
     "output_type": "execute_result"
    }
   ],
   "source": [
    "accuracy_score(y_train,predi1)"
   ]
  },
  {
   "cell_type": "markdown",
   "id": "7cc7f457",
   "metadata": {},
   "source": [
    "## "
   ]
  },
  {
   "cell_type": "code",
   "execution_count": 38,
   "id": "39287d1f",
   "metadata": {},
   "outputs": [],
   "source": [
    "from mlxtend.plotting import plot_decision_regions;"
   ]
  },
  {
   "cell_type": "code",
   "execution_count": 39,
   "id": "2f1d84a3",
   "metadata": {},
   "outputs": [
    {
     "name": "stdout",
     "output_type": "stream",
     "text": [
      "3888/3888 [==============================] - 8s 2ms/step\n"
     ]
    },
    {
     "data": {
      "text/plain": [
       "<AxesSubplot:>"
      ]
     },
     "execution_count": 39,
     "metadata": {},
     "output_type": "execute_result"
    },
    {
     "data": {
      "image/png": "[encoded data removed]",
      "text/plain": [
       "<Figure size 432x288 with 1 Axes>"
      ]
     },
     "metadata": {
      "needs_background": "light"
     },
     "output_type": "display_data"
    }
   ],
   "source": [
    "plot_decision_regions(x_train[[0,1]].values,y_train.values.astype(int),clf=model1)"
   ]
  },
  {
   "cell_type": "code",
   "execution_count": 65,
   "id": "072d7ebf",
   "metadata": {},
   "outputs": [],
   "source": [
    "model2 = Sequential()\n",
    "model2.add(Dense(8,activation='relu',input_dim=2,kernel_initializer=\"he_uniform\"))\n",
    "model2.add(Dropout(0.6))\n",
    "\n",
    "model2.add(Dense(6,activation='relu',kernel_initializer=\"he_uniform\"))\n",
    "model2.add(Dropout(0.6))\n",
    "\n",
    "model2.add(Dense(1,activation='sigmoid'))"
   ]
  },
  {
   "cell_type": "code",
   "execution_count": 66,
   "id": "7dbfc385",
   "metadata": {},
   "outputs": [
    {
     "name": "stdout",
     "output_type": "stream",
     "text": [
      "Model: \"sequential_4\"\n",
      "_________________________________________________________________\n",
      " Layer (type)                Output Shape              Param #   \n",
      "=================================================================\n",
      " dense_12 (Dense)            (None, 8)                 24        \n",
      "                                                                 \n",
      " dropout_2 (Dropout)         (None, 8)                 0         \n",
      "                                                                 \n",
      " dense_13 (Dense)            (None, 6)                 54        \n",
      "                                                                 \n",
      " dropout_3 (Dropout)         (None, 6)                 0         \n",
      "                                                                 \n",
      " dense_14 (Dense)            (None, 1)                 7         \n",
      "                                                                 \n",
      "=================================================================\n",
      "Total params: 85\n",
      "Trainable params: 85\n",
      "Non-trainable params: 0\n",
      "_________________________________________________________________\n"
     ]
    }
   ],
   "source": [
    "model2.summary()"
   ]
  },
  {
   "cell_type": "code",
   "execution_count": 67,
   "id": "44532a1e",
   "metadata": {},
   "outputs": [],
   "source": [
    "model2.compile(optimizer=\"Adam\",loss=\"binary_crossentropy\",metrics=[\"accuracy\"])"
   ]
  },
  {
   "cell_type": "code",
   "execution_count": 68,
   "id": "acad0f87",
   "metadata": {},
   "outputs": [
    {
     "name": "stdout",
     "output_type": "stream",
     "text": [
      "Epoch 1/50\n",
      "8/8 [==============================] - 2s 59ms/step - loss: 0.6683 - accuracy: 0.5139 - val_loss: 0.6086 - val_accuracy: 0.6111\n",
      "Epoch 2/50\n",
      "8/8 [==============================] - 0s 12ms/step - loss: 0.8752 - accuracy: 0.5278 - val_loss: 0.6090 - val_accuracy: 0.6111\n",
      "Epoch 3/50\n",
      "8/8 [==============================] - 0s 16ms/step - loss: 0.9790 - accuracy: 0.4444 - val_loss: 0.6081 - val_accuracy: 0.6111\n",
      "Epoch 4/50\n",
      "8/8 [==============================] - 0s 13ms/step - loss: 0.8077 - accuracy: 0.5556 - val_loss: 0.6077 - val_accuracy: 0.6111\n",
      "Epoch 5/50\n",
      "8/8 [==============================] - 0s 14ms/step - loss: 1.2892 - accuracy: 0.3889 - val_loss: 0.6069 - val_accuracy: 0.6111\n",
      "Epoch 6/50\n",
      "8/8 [==============================] - 0s 14ms/step - loss: 0.7943 - accuracy: 0.4861 - val_loss: 0.6059 - val_accuracy: 0.6111\n",
      "Epoch 7/50\n",
      "8/8 [==============================] - 0s 12ms/step - loss: 0.9211 - accuracy: 0.5278 - val_loss: 0.6052 - val_accuracy: 0.6111\n",
      "Epoch 8/50\n",
      "8/8 [==============================] - 0s 20ms/step - loss: 0.9786 - accuracy: 0.5139 - val_loss: 0.6046 - val_accuracy: 0.6111\n",
      "Epoch 9/50\n",
      "8/8 [==============================] - 0s 18ms/step - loss: 0.7772 - accuracy: 0.5278 - val_loss: 0.6042 - val_accuracy: 0.6111\n",
      "Epoch 10/50\n",
      "8/8 [==============================] - 0s 24ms/step - loss: 0.8792 - accuracy: 0.4861 - val_loss: 0.6045 - val_accuracy: 0.6111\n",
      "Epoch 11/50\n",
      "8/8 [==============================] - 0s 12ms/step - loss: 0.7973 - accuracy: 0.4583 - val_loss: 0.6049 - val_accuracy: 0.6111\n",
      "Epoch 12/50\n",
      "8/8 [==============================] - 0s 13ms/step - loss: 0.7977 - accuracy: 0.5694 - val_loss: 0.6064 - val_accuracy: 0.6111\n",
      "Epoch 13/50\n",
      "8/8 [==============================] - 0s 16ms/step - loss: 0.8928 - accuracy: 0.4722 - val_loss: 0.6074 - val_accuracy: 0.6111\n",
      "Epoch 14/50\n",
      "8/8 [==============================] - 0s 17ms/step - loss: 0.8443 - accuracy: 0.5417 - val_loss: 0.6077 - val_accuracy: 0.6111\n",
      "Epoch 15/50\n",
      "8/8 [==============================] - 0s 17ms/step - loss: 0.7454 - accuracy: 0.5694 - val_loss: 0.6091 - val_accuracy: 0.6111\n",
      "Epoch 16/50\n",
      "8/8 [==============================] - 0s 19ms/step - loss: 0.8056 - accuracy: 0.4583 - val_loss: 0.6101 - val_accuracy: 0.6111\n",
      "Epoch 17/50\n",
      "8/8 [==============================] - 0s 13ms/step - loss: 0.9080 - accuracy: 0.4167 - val_loss: 0.6119 - val_accuracy: 0.6111\n",
      "Epoch 18/50\n",
      "8/8 [==============================] - 0s 16ms/step - loss: 0.8498 - accuracy: 0.5417 - val_loss: 0.6143 - val_accuracy: 0.6111\n",
      "Epoch 19/50\n",
      "8/8 [==============================] - 0s 24ms/step - loss: 1.0512 - accuracy: 0.5139 - val_loss: 0.6142 - val_accuracy: 0.6111\n",
      "Epoch 20/50\n",
      "8/8 [==============================] - 0s 31ms/step - loss: 0.7895 - accuracy: 0.5278 - val_loss: 0.6148 - val_accuracy: 0.6111\n",
      "Epoch 21/50\n",
      "8/8 [==============================] - 0s 16ms/step - loss: 0.9001 - accuracy: 0.5139 - val_loss: 0.6154 - val_accuracy: 0.6111\n",
      "Epoch 22/50\n",
      "8/8 [==============================] - 0s 13ms/step - loss: 0.9163 - accuracy: 0.4306 - val_loss: 0.6172 - val_accuracy: 0.5556\n",
      "Epoch 23/50\n",
      "8/8 [==============================] - 0s 21ms/step - loss: 0.9250 - accuracy: 0.5000 - val_loss: 0.6172 - val_accuracy: 0.5556\n",
      "Epoch 24/50\n",
      "8/8 [==============================] - 0s 13ms/step - loss: 1.0210 - accuracy: 0.4167 - val_loss: 0.6189 - val_accuracy: 0.5556\n",
      "Epoch 25/50\n",
      "8/8 [==============================] - 0s 12ms/step - loss: 0.8498 - accuracy: 0.4028 - val_loss: 0.6211 - val_accuracy: 0.5556\n",
      "Epoch 26/50\n",
      "8/8 [==============================] - 0s 12ms/step - loss: 0.7474 - accuracy: 0.4583 - val_loss: 0.6229 - val_accuracy: 0.5556\n",
      "Epoch 27/50\n",
      "8/8 [==============================] - 0s 13ms/step - loss: 0.9430 - accuracy: 0.4861 - val_loss: 0.6230 - val_accuracy: 0.5556\n",
      "Epoch 28/50\n",
      "8/8 [==============================] - 0s 12ms/step - loss: 0.8845 - accuracy: 0.5278 - val_loss: 0.6229 - val_accuracy: 0.5556\n",
      "Epoch 29/50\n",
      "8/8 [==============================] - 0s 12ms/step - loss: 0.7561 - accuracy: 0.4861 - val_loss: 0.6238 - val_accuracy: 0.5556\n",
      "Epoch 30/50\n",
      "8/8 [==============================] - 0s 17ms/step - loss: 0.7499 - accuracy: 0.5417 - val_loss: 0.6264 - val_accuracy: 0.5556\n",
      "Epoch 31/50\n",
      "8/8 [==============================] - 0s 24ms/step - loss: 0.7386 - accuracy: 0.5278 - val_loss: 0.6291 - val_accuracy: 0.5556\n",
      "Epoch 32/50\n",
      "8/8 [==============================] - 0s 23ms/step - loss: 0.8425 - accuracy: 0.5139 - val_loss: 0.6313 - val_accuracy: 0.5556\n",
      "Epoch 33/50\n",
      "8/8 [==============================] - 0s 13ms/step - loss: 0.8698 - accuracy: 0.5556 - val_loss: 0.6313 - val_accuracy: 0.5556\n",
      "Epoch 34/50\n",
      "8/8 [==============================] - 0s 16ms/step - loss: 0.7776 - accuracy: 0.5694 - val_loss: 0.6318 - val_accuracy: 0.5556\n",
      "Epoch 35/50\n",
      "8/8 [==============================] - 0s 12ms/step - loss: 0.8689 - accuracy: 0.5278 - val_loss: 0.6311 - val_accuracy: 0.5556\n",
      "Epoch 36/50\n",
      "8/8 [==============================] - 0s 12ms/step - loss: 0.8543 - accuracy: 0.5417 - val_loss: 0.6320 - val_accuracy: 0.5556\n",
      "Epoch 37/50\n",
      "8/8 [==============================] - 0s 12ms/step - loss: 0.7526 - accuracy: 0.4306 - val_loss: 0.6335 - val_accuracy: 0.5556\n",
      "Epoch 38/50\n",
      "8/8 [==============================] - 0s 13ms/step - loss: 0.9730 - accuracy: 0.4722 - val_loss: 0.6347 - val_accuracy: 0.5556\n",
      "Epoch 39/50\n",
      "8/8 [==============================] - 0s 16ms/step - loss: 0.7875 - accuracy: 0.4444 - val_loss: 0.6349 - val_accuracy: 0.5556\n",
      "Epoch 40/50\n",
      "8/8 [==============================] - 0s 11ms/step - loss: 0.8383 - accuracy: 0.4306 - val_loss: 0.6359 - val_accuracy: 0.5556\n",
      "Epoch 41/50\n",
      "8/8 [==============================] - 0s 16ms/step - loss: 0.7649 - accuracy: 0.5139 - val_loss: 0.6369 - val_accuracy: 0.5556\n",
      "Epoch 42/50\n",
      "8/8 [==============================] - 0s 17ms/step - loss: 0.7908 - accuracy: 0.5139 - val_loss: 0.6381 - val_accuracy: 0.5556\n",
      "Epoch 43/50\n",
      "8/8 [==============================] - 0s 17ms/step - loss: 0.8756 - accuracy: 0.5694 - val_loss: 0.6388 - val_accuracy: 0.5556\n",
      "Epoch 44/50\n",
      "8/8 [==============================] - 0s 15ms/step - loss: 0.8250 - accuracy: 0.5417 - val_loss: 0.6397 - val_accuracy: 0.5556\n",
      "Epoch 45/50\n",
      "8/8 [==============================] - 0s 12ms/step - loss: 0.7437 - accuracy: 0.5139 - val_loss: 0.6410 - val_accuracy: 0.5556\n",
      "Epoch 46/50\n",
      "8/8 [==============================] - 0s 19ms/step - loss: 0.8285 - accuracy: 0.5139 - val_loss: 0.6428 - val_accuracy: 0.5556\n",
      "Epoch 47/50\n",
      "8/8 [==============================] - 0s 17ms/step - loss: 0.7772 - accuracy: 0.5278 - val_loss: 0.6445 - val_accuracy: 0.6111\n",
      "Epoch 48/50\n",
      "8/8 [==============================] - 0s 19ms/step - loss: 0.7911 - accuracy: 0.5139 - val_loss: 0.6461 - val_accuracy: 0.6667\n",
      "Epoch 49/50\n",
      "8/8 [==============================] - 0s 17ms/step - loss: 0.8375 - accuracy: 0.4583 - val_loss: 0.6495 - val_accuracy: 0.6111\n",
      "Epoch 50/50\n",
      "8/8 [==============================] - 0s 12ms/step - loss: 0.7641 - accuracy: 0.5000 - val_loss: 0.6498 - val_accuracy: 0.6111\n"
     ]
    }
   ],
   "source": [
    "save=model2.fit(x_train,y_train,batch_size=10,epochs=50,verbose=1,validation_split=0.2)"
   ]
  },
  {
   "cell_type": "code",
   "execution_count": 69,
   "id": "aa05d3a2",
   "metadata": {},
   "outputs": [],
   "source": [
    "tl=save.history[\"loss\"]\n",
    "cvl=save.history[\"val_loss\"]"
   ]
  },
  {
   "cell_type": "code",
   "execution_count": 70,
   "id": "7eacc6b2",
   "metadata": {},
   "outputs": [
    {
     "data": {
      "text/plain": [
       "[<matplotlib.lines.Line2D at 0x1a7b4ec5220>]"
      ]
     },
     "execution_count": 70,
     "metadata": {},
     "output_type": "execute_result"
    },
    {
     "data": {
      "image/png": "[encoded data removed]",
      "text/plain": [
       "<Figure size 432x288 with 1 Axes>"
      ]
     },
     "metadata": {
      "needs_background": "light"
     },
     "output_type": "display_data"
    }
   ],
   "source": [
    "plt.plot(range(1,51),tl,label=\"training_loss\")\n",
    "plt.plot(range(1,51),cvl,label=\"crossval_loss\")"
   ]
  },
  {
   "cell_type": "code",
   "execution_count": null,
   "id": "92b858a5",
   "metadata": {},
   "outputs": [],
   "source": []
  },
  {
   "cell_type": "code",
   "execution_count": null,
   "id": "6c80e3a9",
   "metadata": {},
   "outputs": [],
   "source": []
  },
  {
   "cell_type": "code",
   "execution_count": 71,
   "id": "409c6e4a",
   "metadata": {},
   "outputs": [
    {
     "name": "stdout",
     "output_type": "stream",
     "text": [
      "3/3 [==============================] - 0s 10ms/step\n"
     ]
    }
   ],
   "source": [
    "pred2=model2.predict(x_train)"
   ]
  },
  {
   "cell_type": "code",
   "execution_count": 72,
   "id": "cb9cecca",
   "metadata": {},
   "outputs": [],
   "source": [
    "predi2=np.where(pred2>0.5,1,0).flatten()"
   ]
  },
  {
   "cell_type": "code",
   "execution_count": 73,
   "id": "c931b679",
   "metadata": {},
   "outputs": [
    {
     "data": {
      "text/plain": [
       "0.5666666666666667"
      ]
     },
     "execution_count": 73,
     "metadata": {},
     "output_type": "execute_result"
    }
   ],
   "source": [
    "accuracy_score(y_train,predi2)"
   ]
  },
  {
   "cell_type": "code",
   "execution_count": 74,
   "id": "3855983f",
   "metadata": {},
   "outputs": [],
   "source": [
    "from mlxtend.plotting import plot_decision_regions;"
   ]
  },
  {
   "cell_type": "code",
   "execution_count": 75,
   "id": "c5cbefc9",
   "metadata": {},
   "outputs": [
    {
     "name": "stdout",
     "output_type": "stream",
     "text": [
      "3888/3888 [==============================] - 9s 2ms/step\n"
     ]
    },
    {
     "data": {
      "text/plain": [
       "<AxesSubplot:>"
      ]
     },
     "execution_count": 75,
     "metadata": {},
     "output_type": "execute_result"
    },
    {
     "data": {
      "image/png": "[encoded data removed]",
      "text/plain": [
       "<Figure size 432x288 with 1 Axes>"
      ]
     },
     "metadata": {
      "needs_background": "light"
     },
     "output_type": "display_data"
    }
   ],
   "source": [
    "plot_decision_regions(x_train[[0,1]].values,y_train.values.astype(int),clf=model2)"
   ]
  },
  {
   "cell_type": "code",
   "execution_count": null,
   "id": "1b1cef5a",
   "metadata": {},
   "outputs": [],
   "source": []
  },
  {
   "cell_type": "code",
   "execution_count": null,
   "id": "fe35ee52",
   "metadata": {},
   "outputs": [],
   "source": []
  },
  {
   "cell_type": "code",
   "execution_count": null,
   "id": "10737ed2",
   "metadata": {},
   "outputs": [],
   "source": []
  },
  {
   "cell_type": "code",
   "execution_count": null,
   "id": "e2f3e1e4",
   "metadata": {},
   "outputs": [],
   "source": []
  },
  {
   "cell_type": "code",
   "execution_count": null,
   "id": "68827566",
   "metadata": {},
   "outputs": [],
   "source": []
  },
  {
   "cell_type": "code",
   "execution_count": 39,
   "id": "e3ab639f",
   "metadata": {},
   "outputs": [
    {
     "data": {
      "text/plain": [
       "[array([[ 0.26630607, -0.60293555, -0.8307822 ],\n",
       "        [ 0.11086889,  0.5656731 , -0.58236635]], dtype=float32),\n",
       " array([-0.01944623, -0.01643853,  0.04026374], dtype=float32),\n",
       " array([[ 0.20246734, -0.02796446],\n",
       "        [ 0.07834674,  0.42243755],\n",
       "        [ 0.6676169 , -0.42778158]], dtype=float32),\n",
       " array([-0.00305589, -0.01439422], dtype=float32),\n",
       " array([[-0.29131734],\n",
       "        [ 0.24279626]], dtype=float32),\n",
       " array([0.00251699], dtype=float32)]"
      ]
     },
     "execution_count": 39,
     "metadata": {},
     "output_type": "execute_result"
    }
   ],
   "source": [
    "model1.get_weights()"
   ]
  },
  {
   "cell_type": "code",
   "execution_count": 38,
   "id": "8737a8e3",
   "metadata": {},
   "outputs": [
    {
     "data": {
      "text/plain": [
       "[array([[-0.45051998, -0.0107311 ,  0.48471105],\n",
       "        [-0.19976163,  0.6848316 ,  0.637992  ]], dtype=float32),\n",
       " array([0., 0., 0.], dtype=float32),\n",
       " array([[ 0.5777775 , -0.9711572 ],\n",
       "        [-0.8912208 ,  0.9954059 ],\n",
       "        [ 0.34739935,  0.73109996]], dtype=float32),\n",
       " array([0., 0.], dtype=float32),\n",
       " array([[ 0.24879014],\n",
       "        [-1.1815538 ]], dtype=float32),\n",
       " array([0.], dtype=float32)]"
      ]
     },
     "execution_count": 38,
     "metadata": {},
     "output_type": "execute_result"
    }
   ],
   "source": [
    "model.get_weights()"
   ]
  },
  {
   "cell_type": "code",
   "execution_count": null,
   "id": "597d57ff",
   "metadata": {},
   "outputs": [],
   "source": []
  }
 ],
 "metadata": {
  "kernelspec": {
   "display_name": "Python 3 (ipykernel)",
   "language": "python",
   "name": "python3"
  },
  "language_info": {
   "codemirror_mode": {
    "name": "ipython",
    "version": 3
   },
   "file_extension": ".py",
   "mimetype": "text/x-python",
   "name": "python",
   "nbconvert_exporter": "python",
   "pygments_lexer": "ipython3",
   "version": "3.9.12"
  }
 },
 "nbformat": 4,
 "nbformat_minor": 5
}
